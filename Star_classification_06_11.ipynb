{
  "cells": [
    {
      "cell_type": "markdown",
      "metadata": {
        "id": "lQiAp48ZvmNY"
      },
      "source": [
        "# Machine Learning\n",
        "\n",
        "\n",
        "---\n",
        "\n",
        "**Maestría en Ingeniería en Computación**\n",
        "\n",
        "**Alumno:** Gerardo Iván Torres Cisneros\n",
        "\n",
        "**Matrícula:** 234375\n",
        "\n",
        "**Catedrático:** Dra. Olanda Prieto Ordaz\n",
        "\n",
        "**Fecha:** 13 de octubre del 2023"
      ]
    },
    {
      "cell_type": "markdown",
      "metadata": {
        "id": "6NtJK84BurAr"
      },
      "source": [
        "The data consists of 100,000 observations of space taken by the SDSS (Sloan Digital Sky Survey). Every observation is described by 17 feature columns and 1 class column which identifies it to be either a star, galaxy or quasar."
      ]
    },
    {
      "cell_type": "markdown",
      "metadata": {
        "id": "42tZMvUcu0Ov"
      },
      "source": [
        "* obj_ID = Object Identifier, the unique value that identifies the object in the image catalog used by the CAS\n",
        "* alpha = Right Ascension angle (at J2000 epoch)\n",
        "* delta = Declination angle (at J2000 epoch)\n",
        "*u = Ultraviolet filter in the photometric system\n",
        "*g = Green filter in the photometric system\n",
        "*r = Red filter in the photometric system\n",
        "*i = Near Infrared filter in the photometric system\n",
        "*z = Infrared filter in the photometric system\n",
        "*run_ID = Run Number used to identify the specific scan\n",
        "*rereun_ID = Rerun Number to specify how the image was processed\n",
        "*cam_col = Camera column to identify the scanline within the run\n",
        "*field_ID = Field number to identify each field\n",
        "*spec_obj_ID = Unique ID used for optical spectroscopic objects (this means that 2 different observations with the same spec_obj_ID must share the output class)\n",
        "*class = object class (galaxy, star or quasar object)\n",
        "*redshift = redshift value based on the increase in wavelength\n",
        "*plate = plate ID, identifies each plate in SDSS\n",
        "*MJD = Modified Julian Date, used to indicate when a given piece of SDSS data was taken\n",
        "*fiber_ID = fiber ID that identifies the fiber that pointed the light at the focal plane in each observation"
      ]
    },
    {
      "cell_type": "code",
      "execution_count": 1,
      "metadata": {
        "id": "ekSojnFdPayG"
      },
      "outputs": [],
      "source": [
        "import numpy as np\n",
        "import pandas as pd\n",
        "import sklearn\n",
        "from sklearn.preprocessing import StandardScaler, MinMaxScaler\n"
      ]
    },
    {
      "cell_type": "code",
      "execution_count": 2,
      "metadata": {
        "id": "-ekpdGcoRjTP"
      },
      "outputs": [],
      "source": [
        "import seaborn as sns\n",
        "import matplotlib.pyplot as plt"
      ]
    },
    {
      "cell_type": "code",
      "execution_count": 3,
      "metadata": {
        "id": "UcT34m6gRkhZ"
      },
      "outputs": [],
      "source": [
        "df = pd.read_csv('star_classification.csv')"
      ]
    },
    {
      "cell_type": "markdown",
      "metadata": {
        "id": "ZxRIhQhfyfkF"
      },
      "source": [
        "Explore the data"
      ]
    },
    {
      "cell_type": "code",
      "execution_count": 4,
      "metadata": {
        "colab": {
          "base_uri": "https://localhost:8080/",
          "height": 226
        },
        "id": "3bAtaghSRx1_",
        "outputId": "878d94eb-47f6-4339-b11f-de13c6cfcfe4"
      },
      "outputs": [
        {
          "data": {
            "text/html": [
              "<div>\n",
              "<style scoped>\n",
              "    .dataframe tbody tr th:only-of-type {\n",
              "        vertical-align: middle;\n",
              "    }\n",
              "\n",
              "    .dataframe tbody tr th {\n",
              "        vertical-align: top;\n",
              "    }\n",
              "\n",
              "    .dataframe thead th {\n",
              "        text-align: right;\n",
              "    }\n",
              "</style>\n",
              "<table border=\"1\" class=\"dataframe\">\n",
              "  <thead>\n",
              "    <tr style=\"text-align: right;\">\n",
              "      <th></th>\n",
              "      <th>obj_ID</th>\n",
              "      <th>alpha</th>\n",
              "      <th>delta</th>\n",
              "      <th>u</th>\n",
              "      <th>g</th>\n",
              "      <th>r</th>\n",
              "      <th>i</th>\n",
              "      <th>z</th>\n",
              "      <th>run_ID</th>\n",
              "      <th>rerun_ID</th>\n",
              "      <th>cam_col</th>\n",
              "      <th>field_ID</th>\n",
              "      <th>spec_obj_ID</th>\n",
              "      <th>class</th>\n",
              "      <th>redshift</th>\n",
              "      <th>plate</th>\n",
              "      <th>MJD</th>\n",
              "      <th>fiber_ID</th>\n",
              "    </tr>\n",
              "  </thead>\n",
              "  <tbody>\n",
              "    <tr>\n",
              "      <th>0</th>\n",
              "      <td>1.237661e+18</td>\n",
              "      <td>135.689107</td>\n",
              "      <td>32.494632</td>\n",
              "      <td>23.87882</td>\n",
              "      <td>22.27530</td>\n",
              "      <td>20.39501</td>\n",
              "      <td>19.16573</td>\n",
              "      <td>18.79371</td>\n",
              "      <td>3606</td>\n",
              "      <td>301</td>\n",
              "      <td>2</td>\n",
              "      <td>79</td>\n",
              "      <td>6.543777e+18</td>\n",
              "      <td>GALAXY</td>\n",
              "      <td>0.634794</td>\n",
              "      <td>5812</td>\n",
              "      <td>56354</td>\n",
              "      <td>171</td>\n",
              "    </tr>\n",
              "    <tr>\n",
              "      <th>1</th>\n",
              "      <td>1.237665e+18</td>\n",
              "      <td>144.826101</td>\n",
              "      <td>31.274185</td>\n",
              "      <td>24.77759</td>\n",
              "      <td>22.83188</td>\n",
              "      <td>22.58444</td>\n",
              "      <td>21.16812</td>\n",
              "      <td>21.61427</td>\n",
              "      <td>4518</td>\n",
              "      <td>301</td>\n",
              "      <td>5</td>\n",
              "      <td>119</td>\n",
              "      <td>1.176014e+19</td>\n",
              "      <td>GALAXY</td>\n",
              "      <td>0.779136</td>\n",
              "      <td>10445</td>\n",
              "      <td>58158</td>\n",
              "      <td>427</td>\n",
              "    </tr>\n",
              "    <tr>\n",
              "      <th>2</th>\n",
              "      <td>1.237661e+18</td>\n",
              "      <td>142.188790</td>\n",
              "      <td>35.582444</td>\n",
              "      <td>25.26307</td>\n",
              "      <td>22.66389</td>\n",
              "      <td>20.60976</td>\n",
              "      <td>19.34857</td>\n",
              "      <td>18.94827</td>\n",
              "      <td>3606</td>\n",
              "      <td>301</td>\n",
              "      <td>2</td>\n",
              "      <td>120</td>\n",
              "      <td>5.152200e+18</td>\n",
              "      <td>GALAXY</td>\n",
              "      <td>0.644195</td>\n",
              "      <td>4576</td>\n",
              "      <td>55592</td>\n",
              "      <td>299</td>\n",
              "    </tr>\n",
              "    <tr>\n",
              "      <th>3</th>\n",
              "      <td>1.237663e+18</td>\n",
              "      <td>338.741038</td>\n",
              "      <td>-0.402828</td>\n",
              "      <td>22.13682</td>\n",
              "      <td>23.77656</td>\n",
              "      <td>21.61162</td>\n",
              "      <td>20.50454</td>\n",
              "      <td>19.25010</td>\n",
              "      <td>4192</td>\n",
              "      <td>301</td>\n",
              "      <td>3</td>\n",
              "      <td>214</td>\n",
              "      <td>1.030107e+19</td>\n",
              "      <td>GALAXY</td>\n",
              "      <td>0.932346</td>\n",
              "      <td>9149</td>\n",
              "      <td>58039</td>\n",
              "      <td>775</td>\n",
              "    </tr>\n",
              "    <tr>\n",
              "      <th>4</th>\n",
              "      <td>1.237680e+18</td>\n",
              "      <td>345.282593</td>\n",
              "      <td>21.183866</td>\n",
              "      <td>19.43718</td>\n",
              "      <td>17.58028</td>\n",
              "      <td>16.49747</td>\n",
              "      <td>15.97711</td>\n",
              "      <td>15.54461</td>\n",
              "      <td>8102</td>\n",
              "      <td>301</td>\n",
              "      <td>3</td>\n",
              "      <td>137</td>\n",
              "      <td>6.891865e+18</td>\n",
              "      <td>GALAXY</td>\n",
              "      <td>0.116123</td>\n",
              "      <td>6121</td>\n",
              "      <td>56187</td>\n",
              "      <td>842</td>\n",
              "    </tr>\n",
              "  </tbody>\n",
              "</table>\n",
              "</div>"
            ],
            "text/plain": [
              "         obj_ID       alpha      delta         u         g         r  \\\n",
              "0  1.237661e+18  135.689107  32.494632  23.87882  22.27530  20.39501   \n",
              "1  1.237665e+18  144.826101  31.274185  24.77759  22.83188  22.58444   \n",
              "2  1.237661e+18  142.188790  35.582444  25.26307  22.66389  20.60976   \n",
              "3  1.237663e+18  338.741038  -0.402828  22.13682  23.77656  21.61162   \n",
              "4  1.237680e+18  345.282593  21.183866  19.43718  17.58028  16.49747   \n",
              "\n",
              "          i         z  run_ID  rerun_ID  cam_col  field_ID   spec_obj_ID  \\\n",
              "0  19.16573  18.79371    3606       301        2        79  6.543777e+18   \n",
              "1  21.16812  21.61427    4518       301        5       119  1.176014e+19   \n",
              "2  19.34857  18.94827    3606       301        2       120  5.152200e+18   \n",
              "3  20.50454  19.25010    4192       301        3       214  1.030107e+19   \n",
              "4  15.97711  15.54461    8102       301        3       137  6.891865e+18   \n",
              "\n",
              "    class  redshift  plate    MJD  fiber_ID  \n",
              "0  GALAXY  0.634794   5812  56354       171  \n",
              "1  GALAXY  0.779136  10445  58158       427  \n",
              "2  GALAXY  0.644195   4576  55592       299  \n",
              "3  GALAXY  0.932346   9149  58039       775  \n",
              "4  GALAXY  0.116123   6121  56187       842  "
            ]
          },
          "execution_count": 4,
          "metadata": {},
          "output_type": "execute_result"
        }
      ],
      "source": [
        "df.head()"
      ]
    },
    {
      "cell_type": "code",
      "execution_count": 5,
      "metadata": {
        "colab": {
          "base_uri": "https://localhost:8080/"
        },
        "id": "1ENFpCMhR2Ns",
        "outputId": "e59e86e0-8829-4360-bb54-a47d2dfd5ef2"
      },
      "outputs": [
        {
          "name": "stdout",
          "output_type": "stream",
          "text": [
            "<class 'pandas.core.frame.DataFrame'>\n",
            "RangeIndex: 100000 entries, 0 to 99999\n",
            "Data columns (total 18 columns):\n",
            " #   Column       Non-Null Count   Dtype  \n",
            "---  ------       --------------   -----  \n",
            " 0   obj_ID       100000 non-null  float64\n",
            " 1   alpha        100000 non-null  float64\n",
            " 2   delta        100000 non-null  float64\n",
            " 3   u            100000 non-null  float64\n",
            " 4   g            100000 non-null  float64\n",
            " 5   r            100000 non-null  float64\n",
            " 6   i            100000 non-null  float64\n",
            " 7   z            100000 non-null  float64\n",
            " 8   run_ID       100000 non-null  int64  \n",
            " 9   rerun_ID     100000 non-null  int64  \n",
            " 10  cam_col      100000 non-null  int64  \n",
            " 11  field_ID     100000 non-null  int64  \n",
            " 12  spec_obj_ID  100000 non-null  float64\n",
            " 13  class        100000 non-null  object \n",
            " 14  redshift     100000 non-null  float64\n",
            " 15  plate        100000 non-null  int64  \n",
            " 16  MJD          100000 non-null  int64  \n",
            " 17  fiber_ID     100000 non-null  int64  \n",
            "dtypes: float64(10), int64(7), object(1)\n",
            "memory usage: 13.7+ MB\n"
          ]
        }
      ],
      "source": [
        "df.info()"
      ]
    },
    {
      "cell_type": "code",
      "execution_count": 6,
      "metadata": {
        "colab": {
          "base_uri": "https://localhost:8080/"
        },
        "id": "YrCbvC7dR3l2",
        "outputId": "724ca4da-9050-4787-d397-81842384b4bb"
      },
      "outputs": [
        {
          "data": {
            "text/plain": [
              "obj_ID         0\n",
              "alpha          0\n",
              "delta          0\n",
              "u              0\n",
              "g              0\n",
              "r              0\n",
              "i              0\n",
              "z              0\n",
              "run_ID         0\n",
              "rerun_ID       0\n",
              "cam_col        0\n",
              "field_ID       0\n",
              "spec_obj_ID    0\n",
              "class          0\n",
              "redshift       0\n",
              "plate          0\n",
              "MJD            0\n",
              "fiber_ID       0\n",
              "dtype: int64"
            ]
          },
          "execution_count": 6,
          "metadata": {},
          "output_type": "execute_result"
        }
      ],
      "source": [
        "df.isnull().sum()"
      ]
    },
    {
      "cell_type": "code",
      "execution_count": 7,
      "metadata": {
        "colab": {
          "base_uri": "https://localhost:8080/"
        },
        "id": "f-1BOzJ7Slbv",
        "outputId": "c9a5ae65-9c63-468e-87e7-8139bbc5859f"
      },
      "outputs": [
        {
          "name": "stdout",
          "output_type": "stream",
          "text": [
            "<class 'pandas.core.frame.DataFrame'>\n",
            "RangeIndex: 100000 entries, 0 to 99999\n",
            "Data columns (total 18 columns):\n",
            " #   Column       Non-Null Count   Dtype  \n",
            "---  ------       --------------   -----  \n",
            " 0   obj_ID       100000 non-null  float64\n",
            " 1   alpha        100000 non-null  float64\n",
            " 2   delta        100000 non-null  float64\n",
            " 3   u            100000 non-null  float64\n",
            " 4   g            100000 non-null  float64\n",
            " 5   r            100000 non-null  float64\n",
            " 6   i            100000 non-null  float64\n",
            " 7   z            100000 non-null  float64\n",
            " 8   run_ID       100000 non-null  int64  \n",
            " 9   rerun_ID     100000 non-null  int64  \n",
            " 10  cam_col      100000 non-null  int64  \n",
            " 11  field_ID     100000 non-null  int64  \n",
            " 12  spec_obj_ID  100000 non-null  float64\n",
            " 13  class        100000 non-null  object \n",
            " 14  redshift     100000 non-null  float64\n",
            " 15  plate        100000 non-null  int64  \n",
            " 16  MJD          100000 non-null  int64  \n",
            " 17  fiber_ID     100000 non-null  int64  \n",
            "dtypes: float64(10), int64(7), object(1)\n",
            "memory usage: 13.7+ MB\n"
          ]
        }
      ],
      "source": [
        "df.info()"
      ]
    },
    {
      "cell_type": "code",
      "execution_count": 8,
      "metadata": {
        "colab": {
          "base_uri": "https://localhost:8080/",
          "height": 320
        },
        "id": "62s-16OXSARb",
        "outputId": "dca6dc82-f743-4bfc-be51-b522156ded13"
      },
      "outputs": [
        {
          "data": {
            "text/html": [
              "<div>\n",
              "<style scoped>\n",
              "    .dataframe tbody tr th:only-of-type {\n",
              "        vertical-align: middle;\n",
              "    }\n",
              "\n",
              "    .dataframe tbody tr th {\n",
              "        vertical-align: top;\n",
              "    }\n",
              "\n",
              "    .dataframe thead th {\n",
              "        text-align: right;\n",
              "    }\n",
              "</style>\n",
              "<table border=\"1\" class=\"dataframe\">\n",
              "  <thead>\n",
              "    <tr style=\"text-align: right;\">\n",
              "      <th></th>\n",
              "      <th>obj_ID</th>\n",
              "      <th>alpha</th>\n",
              "      <th>delta</th>\n",
              "      <th>u</th>\n",
              "      <th>g</th>\n",
              "      <th>r</th>\n",
              "      <th>i</th>\n",
              "      <th>z</th>\n",
              "      <th>run_ID</th>\n",
              "      <th>rerun_ID</th>\n",
              "      <th>cam_col</th>\n",
              "      <th>field_ID</th>\n",
              "      <th>spec_obj_ID</th>\n",
              "      <th>redshift</th>\n",
              "      <th>plate</th>\n",
              "      <th>MJD</th>\n",
              "      <th>fiber_ID</th>\n",
              "    </tr>\n",
              "  </thead>\n",
              "  <tbody>\n",
              "    <tr>\n",
              "      <th>count</th>\n",
              "      <td>1.000000e+05</td>\n",
              "      <td>100000.000000</td>\n",
              "      <td>100000.000000</td>\n",
              "      <td>100000.000000</td>\n",
              "      <td>100000.000000</td>\n",
              "      <td>100000.000000</td>\n",
              "      <td>100000.000000</td>\n",
              "      <td>100000.000000</td>\n",
              "      <td>100000.000000</td>\n",
              "      <td>100000.0</td>\n",
              "      <td>100000.000000</td>\n",
              "      <td>100000.000000</td>\n",
              "      <td>1.000000e+05</td>\n",
              "      <td>100000.000000</td>\n",
              "      <td>100000.000000</td>\n",
              "      <td>100000.000000</td>\n",
              "      <td>100000.000000</td>\n",
              "    </tr>\n",
              "    <tr>\n",
              "      <th>mean</th>\n",
              "      <td>1.237665e+18</td>\n",
              "      <td>177.629117</td>\n",
              "      <td>24.135305</td>\n",
              "      <td>21.980468</td>\n",
              "      <td>20.531387</td>\n",
              "      <td>19.645762</td>\n",
              "      <td>19.084854</td>\n",
              "      <td>18.668810</td>\n",
              "      <td>4481.366060</td>\n",
              "      <td>301.0</td>\n",
              "      <td>3.511610</td>\n",
              "      <td>186.130520</td>\n",
              "      <td>5.783882e+18</td>\n",
              "      <td>0.576661</td>\n",
              "      <td>5137.009660</td>\n",
              "      <td>55588.647500</td>\n",
              "      <td>449.312740</td>\n",
              "    </tr>\n",
              "    <tr>\n",
              "      <th>std</th>\n",
              "      <td>8.438560e+12</td>\n",
              "      <td>96.502241</td>\n",
              "      <td>19.644665</td>\n",
              "      <td>31.769291</td>\n",
              "      <td>31.750292</td>\n",
              "      <td>1.854760</td>\n",
              "      <td>1.757895</td>\n",
              "      <td>31.728152</td>\n",
              "      <td>1964.764593</td>\n",
              "      <td>0.0</td>\n",
              "      <td>1.586912</td>\n",
              "      <td>149.011073</td>\n",
              "      <td>3.324016e+18</td>\n",
              "      <td>0.730707</td>\n",
              "      <td>2952.303351</td>\n",
              "      <td>1808.484233</td>\n",
              "      <td>272.498404</td>\n",
              "    </tr>\n",
              "    <tr>\n",
              "      <th>min</th>\n",
              "      <td>1.237646e+18</td>\n",
              "      <td>0.005528</td>\n",
              "      <td>-18.785328</td>\n",
              "      <td>-9999.000000</td>\n",
              "      <td>-9999.000000</td>\n",
              "      <td>9.822070</td>\n",
              "      <td>9.469903</td>\n",
              "      <td>-9999.000000</td>\n",
              "      <td>109.000000</td>\n",
              "      <td>301.0</td>\n",
              "      <td>1.000000</td>\n",
              "      <td>11.000000</td>\n",
              "      <td>2.995191e+17</td>\n",
              "      <td>-0.009971</td>\n",
              "      <td>266.000000</td>\n",
              "      <td>51608.000000</td>\n",
              "      <td>1.000000</td>\n",
              "    </tr>\n",
              "    <tr>\n",
              "      <th>25%</th>\n",
              "      <td>1.237659e+18</td>\n",
              "      <td>127.518222</td>\n",
              "      <td>5.146771</td>\n",
              "      <td>20.352353</td>\n",
              "      <td>18.965230</td>\n",
              "      <td>18.135828</td>\n",
              "      <td>17.732285</td>\n",
              "      <td>17.460677</td>\n",
              "      <td>3187.000000</td>\n",
              "      <td>301.0</td>\n",
              "      <td>2.000000</td>\n",
              "      <td>82.000000</td>\n",
              "      <td>2.844138e+18</td>\n",
              "      <td>0.054517</td>\n",
              "      <td>2526.000000</td>\n",
              "      <td>54234.000000</td>\n",
              "      <td>221.000000</td>\n",
              "    </tr>\n",
              "    <tr>\n",
              "      <th>50%</th>\n",
              "      <td>1.237663e+18</td>\n",
              "      <td>180.900700</td>\n",
              "      <td>23.645922</td>\n",
              "      <td>22.179135</td>\n",
              "      <td>21.099835</td>\n",
              "      <td>20.125290</td>\n",
              "      <td>19.405145</td>\n",
              "      <td>19.004595</td>\n",
              "      <td>4188.000000</td>\n",
              "      <td>301.0</td>\n",
              "      <td>4.000000</td>\n",
              "      <td>146.000000</td>\n",
              "      <td>5.614883e+18</td>\n",
              "      <td>0.424173</td>\n",
              "      <td>4987.000000</td>\n",
              "      <td>55868.500000</td>\n",
              "      <td>433.000000</td>\n",
              "    </tr>\n",
              "    <tr>\n",
              "      <th>75%</th>\n",
              "      <td>1.237668e+18</td>\n",
              "      <td>233.895005</td>\n",
              "      <td>39.901550</td>\n",
              "      <td>23.687440</td>\n",
              "      <td>22.123767</td>\n",
              "      <td>21.044785</td>\n",
              "      <td>20.396495</td>\n",
              "      <td>19.921120</td>\n",
              "      <td>5326.000000</td>\n",
              "      <td>301.0</td>\n",
              "      <td>5.000000</td>\n",
              "      <td>241.000000</td>\n",
              "      <td>8.332144e+18</td>\n",
              "      <td>0.704154</td>\n",
              "      <td>7400.250000</td>\n",
              "      <td>56777.000000</td>\n",
              "      <td>645.000000</td>\n",
              "    </tr>\n",
              "    <tr>\n",
              "      <th>max</th>\n",
              "      <td>1.237681e+18</td>\n",
              "      <td>359.999810</td>\n",
              "      <td>83.000519</td>\n",
              "      <td>32.781390</td>\n",
              "      <td>31.602240</td>\n",
              "      <td>29.571860</td>\n",
              "      <td>32.141470</td>\n",
              "      <td>29.383740</td>\n",
              "      <td>8162.000000</td>\n",
              "      <td>301.0</td>\n",
              "      <td>6.000000</td>\n",
              "      <td>989.000000</td>\n",
              "      <td>1.412694e+19</td>\n",
              "      <td>7.011245</td>\n",
              "      <td>12547.000000</td>\n",
              "      <td>58932.000000</td>\n",
              "      <td>1000.000000</td>\n",
              "    </tr>\n",
              "  </tbody>\n",
              "</table>\n",
              "</div>"
            ],
            "text/plain": [
              "             obj_ID          alpha          delta              u  \\\n",
              "count  1.000000e+05  100000.000000  100000.000000  100000.000000   \n",
              "mean   1.237665e+18     177.629117      24.135305      21.980468   \n",
              "std    8.438560e+12      96.502241      19.644665      31.769291   \n",
              "min    1.237646e+18       0.005528     -18.785328   -9999.000000   \n",
              "25%    1.237659e+18     127.518222       5.146771      20.352353   \n",
              "50%    1.237663e+18     180.900700      23.645922      22.179135   \n",
              "75%    1.237668e+18     233.895005      39.901550      23.687440   \n",
              "max    1.237681e+18     359.999810      83.000519      32.781390   \n",
              "\n",
              "                   g              r              i              z  \\\n",
              "count  100000.000000  100000.000000  100000.000000  100000.000000   \n",
              "mean       20.531387      19.645762      19.084854      18.668810   \n",
              "std        31.750292       1.854760       1.757895      31.728152   \n",
              "min     -9999.000000       9.822070       9.469903   -9999.000000   \n",
              "25%        18.965230      18.135828      17.732285      17.460677   \n",
              "50%        21.099835      20.125290      19.405145      19.004595   \n",
              "75%        22.123767      21.044785      20.396495      19.921120   \n",
              "max        31.602240      29.571860      32.141470      29.383740   \n",
              "\n",
              "              run_ID  rerun_ID        cam_col       field_ID   spec_obj_ID  \\\n",
              "count  100000.000000  100000.0  100000.000000  100000.000000  1.000000e+05   \n",
              "mean     4481.366060     301.0       3.511610     186.130520  5.783882e+18   \n",
              "std      1964.764593       0.0       1.586912     149.011073  3.324016e+18   \n",
              "min       109.000000     301.0       1.000000      11.000000  2.995191e+17   \n",
              "25%      3187.000000     301.0       2.000000      82.000000  2.844138e+18   \n",
              "50%      4188.000000     301.0       4.000000     146.000000  5.614883e+18   \n",
              "75%      5326.000000     301.0       5.000000     241.000000  8.332144e+18   \n",
              "max      8162.000000     301.0       6.000000     989.000000  1.412694e+19   \n",
              "\n",
              "            redshift          plate            MJD       fiber_ID  \n",
              "count  100000.000000  100000.000000  100000.000000  100000.000000  \n",
              "mean        0.576661    5137.009660   55588.647500     449.312740  \n",
              "std         0.730707    2952.303351    1808.484233     272.498404  \n",
              "min        -0.009971     266.000000   51608.000000       1.000000  \n",
              "25%         0.054517    2526.000000   54234.000000     221.000000  \n",
              "50%         0.424173    4987.000000   55868.500000     433.000000  \n",
              "75%         0.704154    7400.250000   56777.000000     645.000000  \n",
              "max         7.011245   12547.000000   58932.000000    1000.000000  "
            ]
          },
          "execution_count": 8,
          "metadata": {},
          "output_type": "execute_result"
        }
      ],
      "source": [
        "df.describe()"
      ]
    },
    {
      "cell_type": "code",
      "execution_count": 9,
      "metadata": {
        "colab": {
          "base_uri": "https://localhost:8080/"
        },
        "id": "CPYB_SuFSSCc",
        "outputId": "e5b10d7c-e26c-4294-ac94-119be24ae13f"
      },
      "outputs": [
        {
          "data": {
            "text/plain": [
              "(100000, 18)"
            ]
          },
          "execution_count": 9,
          "metadata": {},
          "output_type": "execute_result"
        }
      ],
      "source": [
        "df.shape"
      ]
    },
    {
      "cell_type": "code",
      "execution_count": 10,
      "metadata": {
        "colab": {
          "base_uri": "https://localhost:8080/"
        },
        "id": "j7LtracOSTP7",
        "outputId": "da8126c2-9a18-404b-a9c2-1c747840e418"
      },
      "outputs": [
        {
          "data": {
            "text/plain": [
              "Index(['obj_ID', 'alpha', 'delta', 'u', 'g', 'r', 'i', 'z', 'run_ID',\n",
              "       'rerun_ID', 'cam_col', 'field_ID', 'spec_obj_ID', 'class', 'redshift',\n",
              "       'plate', 'MJD', 'fiber_ID'],\n",
              "      dtype='object')"
            ]
          },
          "execution_count": 10,
          "metadata": {},
          "output_type": "execute_result"
        }
      ],
      "source": [
        "df.columns"
      ]
    },
    {
      "cell_type": "code",
      "execution_count": 11,
      "metadata": {
        "colab": {
          "base_uri": "https://localhost:8080/"
        },
        "id": "gKPXlslUSWWf",
        "outputId": "b9417997-401c-4ab8-a88e-0e89b6fa555f"
      },
      "outputs": [
        {
          "data": {
            "text/plain": [
              "class\n",
              "GALAXY    59445\n",
              "STAR      21594\n",
              "QSO       18961\n",
              "Name: count, dtype: int64"
            ]
          },
          "execution_count": 11,
          "metadata": {},
          "output_type": "execute_result"
        }
      ],
      "source": [
        "df['class'].value_counts()"
      ]
    },
    {
      "cell_type": "code",
      "execution_count": 12,
      "metadata": {
        "colab": {
          "base_uri": "https://localhost:8080/",
          "height": 449
        },
        "id": "pXifrjbgSZg_",
        "outputId": "a90ba326-a007-4b9b-e091-bcae36a25e86"
      },
      "outputs": [
        {
          "name": "stderr",
          "output_type": "stream",
          "text": [
            "/home/torrescayo/anaconda3/envs/ML/lib/python3.11/site-packages/seaborn/_oldcore.py:1498: FutureWarning: is_categorical_dtype is deprecated and will be removed in a future version. Use isinstance(dtype, CategoricalDtype) instead\n",
            "  if pd.api.types.is_categorical_dtype(vector):\n",
            "/home/torrescayo/anaconda3/envs/ML/lib/python3.11/site-packages/seaborn/_oldcore.py:1498: FutureWarning: is_categorical_dtype is deprecated and will be removed in a future version. Use isinstance(dtype, CategoricalDtype) instead\n",
            "  if pd.api.types.is_categorical_dtype(vector):\n",
            "/home/torrescayo/anaconda3/envs/ML/lib/python3.11/site-packages/seaborn/_oldcore.py:1498: FutureWarning: is_categorical_dtype is deprecated and will be removed in a future version. Use isinstance(dtype, CategoricalDtype) instead\n",
            "  if pd.api.types.is_categorical_dtype(vector):\n"
          ]
        },
        {
          "data": {
            "image/png": "[encoded data removed]",
            "text/plain": [
              "<Figure size 640x480 with 1 Axes>"
            ]
          },
          "metadata": {},
          "output_type": "display_data"
        }
      ],
      "source": [
        "ax=sns.countplot(x=df[\"class\"]);\n",
        "ax.bar_label(ax.containers[0]);"
      ]
    },
    {
      "cell_type": "code",
      "execution_count": 13,
      "metadata": {
        "colab": {
          "base_uri": "https://localhost:8080/",
          "height": 668
        },
        "id": "l-_fcFiJJOE_",
        "outputId": "823ebff0-01de-46b8-934d-08f790cae110"
      },
      "outputs": [
        {
          "data": {
            "image/png": "[encoded data removed]",
            "text/plain": [
              "<Figure size 1400x1400 with 20 Axes>"
            ]
          },
          "metadata": {},
          "output_type": "display_data"
        }
      ],
      "source": [
        "df.hist(bins =25 , figsize= (14,14), color=\"midnightblue\")\n",
        "plt.show()"
      ]
    },
    {
      "cell_type": "markdown",
      "metadata": {
        "id": "OKIHnayJytx6"
      },
      "source": [
        "We have imablanced data"
      ]
    },
    {
      "cell_type": "code",
      "execution_count": 14,
      "metadata": {
        "id": "3pyiTRwzVS_U"
      },
      "outputs": [],
      "source": [
        "df[\"class\"]=df[\"class\"].map({\"GALAXY\":0,\"STAR\":1,\"QSO\":2})"
      ]
    },
    {
      "cell_type": "code",
      "execution_count": 15,
      "metadata": {},
      "outputs": [
        {
          "data": {
            "text/html": [
              "<div>\n",
              "<style scoped>\n",
              "    .dataframe tbody tr th:only-of-type {\n",
              "        vertical-align: middle;\n",
              "    }\n",
              "\n",
              "    .dataframe tbody tr th {\n",
              "        vertical-align: top;\n",
              "    }\n",
              "\n",
              "    .dataframe thead th {\n",
              "        text-align: right;\n",
              "    }\n",
              "</style>\n",
              "<table border=\"1\" class=\"dataframe\">\n",
              "  <thead>\n",
              "    <tr style=\"text-align: right;\">\n",
              "      <th></th>\n",
              "      <th>obj_ID</th>\n",
              "      <th>alpha</th>\n",
              "      <th>delta</th>\n",
              "      <th>u</th>\n",
              "      <th>g</th>\n",
              "      <th>r</th>\n",
              "      <th>i</th>\n",
              "      <th>z</th>\n",
              "      <th>run_ID</th>\n",
              "      <th>rerun_ID</th>\n",
              "      <th>cam_col</th>\n",
              "      <th>field_ID</th>\n",
              "      <th>spec_obj_ID</th>\n",
              "      <th>class</th>\n",
              "      <th>redshift</th>\n",
              "      <th>plate</th>\n",
              "      <th>MJD</th>\n",
              "      <th>fiber_ID</th>\n",
              "    </tr>\n",
              "  </thead>\n",
              "  <tbody>\n",
              "    <tr>\n",
              "      <th>obj_ID</th>\n",
              "      <td>1.000000</td>\n",
              "      <td>-0.013735</td>\n",
              "      <td>-0.301237</td>\n",
              "      <td>0.015310</td>\n",
              "      <td>0.015710</td>\n",
              "      <td>0.153891</td>\n",
              "      <td>0.147670</td>\n",
              "      <td>0.013811</td>\n",
              "      <td>1.000000</td>\n",
              "      <td>NaN</td>\n",
              "      <td>-0.046997</td>\n",
              "      <td>0.031498</td>\n",
              "      <td>0.239461</td>\n",
              "      <td>-0.000047</td>\n",
              "      <td>0.065400</td>\n",
              "      <td>0.239460</td>\n",
              "      <td>0.262687</td>\n",
              "      <td>0.067178</td>\n",
              "    </tr>\n",
              "    <tr>\n",
              "      <th>alpha</th>\n",
              "      <td>-0.013735</td>\n",
              "      <td>1.000000</td>\n",
              "      <td>0.138691</td>\n",
              "      <td>-0.001532</td>\n",
              "      <td>-0.002423</td>\n",
              "      <td>-0.022083</td>\n",
              "      <td>-0.023580</td>\n",
              "      <td>-0.002918</td>\n",
              "      <td>-0.013737</td>\n",
              "      <td>NaN</td>\n",
              "      <td>0.019582</td>\n",
              "      <td>-0.165577</td>\n",
              "      <td>-0.002553</td>\n",
              "      <td>0.004552</td>\n",
              "      <td>0.001667</td>\n",
              "      <td>-0.002554</td>\n",
              "      <td>0.019943</td>\n",
              "      <td>0.030464</td>\n",
              "    </tr>\n",
              "    <tr>\n",
              "      <th>delta</th>\n",
              "      <td>-0.301237</td>\n",
              "      <td>0.138691</td>\n",
              "      <td>1.000000</td>\n",
              "      <td>0.002074</td>\n",
              "      <td>0.003523</td>\n",
              "      <td>-0.006835</td>\n",
              "      <td>-0.004480</td>\n",
              "      <td>0.003630</td>\n",
              "      <td>-0.301238</td>\n",
              "      <td>NaN</td>\n",
              "      <td>0.032565</td>\n",
              "      <td>-0.173416</td>\n",
              "      <td>0.112329</td>\n",
              "      <td>0.056643</td>\n",
              "      <td>0.031638</td>\n",
              "      <td>0.112329</td>\n",
              "      <td>0.107333</td>\n",
              "      <td>0.028250</td>\n",
              "    </tr>\n",
              "    <tr>\n",
              "      <th>u</th>\n",
              "      <td>0.015310</td>\n",
              "      <td>-0.001532</td>\n",
              "      <td>0.002074</td>\n",
              "      <td>1.000000</td>\n",
              "      <td>0.999311</td>\n",
              "      <td>0.054149</td>\n",
              "      <td>0.045730</td>\n",
              "      <td>0.998093</td>\n",
              "      <td>0.015309</td>\n",
              "      <td>NaN</td>\n",
              "      <td>0.003548</td>\n",
              "      <td>-0.008374</td>\n",
              "      <td>0.029997</td>\n",
              "      <td>-0.017701</td>\n",
              "      <td>0.014309</td>\n",
              "      <td>0.029997</td>\n",
              "      <td>0.031997</td>\n",
              "      <td>0.016305</td>\n",
              "    </tr>\n",
              "    <tr>\n",
              "      <th>g</th>\n",
              "      <td>0.015710</td>\n",
              "      <td>-0.002423</td>\n",
              "      <td>0.003523</td>\n",
              "      <td>0.999311</td>\n",
              "      <td>1.000000</td>\n",
              "      <td>0.062387</td>\n",
              "      <td>0.056271</td>\n",
              "      <td>0.999161</td>\n",
              "      <td>0.015710</td>\n",
              "      <td>NaN</td>\n",
              "      <td>0.003508</td>\n",
              "      <td>-0.008852</td>\n",
              "      <td>0.039443</td>\n",
              "      <td>-0.005915</td>\n",
              "      <td>0.022954</td>\n",
              "      <td>0.039443</td>\n",
              "      <td>0.040274</td>\n",
              "      <td>0.017470</td>\n",
              "    </tr>\n",
              "    <tr>\n",
              "      <th>r</th>\n",
              "      <td>0.153891</td>\n",
              "      <td>-0.022083</td>\n",
              "      <td>-0.006835</td>\n",
              "      <td>0.054149</td>\n",
              "      <td>0.062387</td>\n",
              "      <td>1.000000</td>\n",
              "      <td>0.962868</td>\n",
              "      <td>0.053677</td>\n",
              "      <td>0.153889</td>\n",
              "      <td>NaN</td>\n",
              "      <td>0.008480</td>\n",
              "      <td>-0.026423</td>\n",
              "      <td>0.655245</td>\n",
              "      <td>0.150691</td>\n",
              "      <td>0.433241</td>\n",
              "      <td>0.655243</td>\n",
              "      <td>0.671180</td>\n",
              "      <td>0.223106</td>\n",
              "    </tr>\n",
              "    <tr>\n",
              "      <th>i</th>\n",
              "      <td>0.147670</td>\n",
              "      <td>-0.023580</td>\n",
              "      <td>-0.004480</td>\n",
              "      <td>0.045730</td>\n",
              "      <td>0.056271</td>\n",
              "      <td>0.962868</td>\n",
              "      <td>1.000000</td>\n",
              "      <td>0.055994</td>\n",
              "      <td>0.147668</td>\n",
              "      <td>NaN</td>\n",
              "      <td>0.007615</td>\n",
              "      <td>-0.026679</td>\n",
              "      <td>0.661641</td>\n",
              "      <td>0.284396</td>\n",
              "      <td>0.492383</td>\n",
              "      <td>0.661640</td>\n",
              "      <td>0.672523</td>\n",
              "      <td>0.214787</td>\n",
              "    </tr>\n",
              "    <tr>\n",
              "      <th>z</th>\n",
              "      <td>0.013811</td>\n",
              "      <td>-0.002918</td>\n",
              "      <td>0.003630</td>\n",
              "      <td>0.998093</td>\n",
              "      <td>0.999161</td>\n",
              "      <td>0.053677</td>\n",
              "      <td>0.055994</td>\n",
              "      <td>1.000000</td>\n",
              "      <td>0.013811</td>\n",
              "      <td>NaN</td>\n",
              "      <td>0.003365</td>\n",
              "      <td>-0.008903</td>\n",
              "      <td>0.037813</td>\n",
              "      <td>0.017352</td>\n",
              "      <td>0.030380</td>\n",
              "      <td>0.037813</td>\n",
              "      <td>0.037469</td>\n",
              "      <td>0.014668</td>\n",
              "    </tr>\n",
              "    <tr>\n",
              "      <th>run_ID</th>\n",
              "      <td>1.000000</td>\n",
              "      <td>-0.013737</td>\n",
              "      <td>-0.301238</td>\n",
              "      <td>0.015309</td>\n",
              "      <td>0.015710</td>\n",
              "      <td>0.153889</td>\n",
              "      <td>0.147668</td>\n",
              "      <td>0.013811</td>\n",
              "      <td>1.000000</td>\n",
              "      <td>NaN</td>\n",
              "      <td>-0.047098</td>\n",
              "      <td>0.031498</td>\n",
              "      <td>0.239460</td>\n",
              "      <td>-0.000049</td>\n",
              "      <td>0.065400</td>\n",
              "      <td>0.239459</td>\n",
              "      <td>0.262687</td>\n",
              "      <td>0.067165</td>\n",
              "    </tr>\n",
              "    <tr>\n",
              "      <th>rerun_ID</th>\n",
              "      <td>NaN</td>\n",
              "      <td>NaN</td>\n",
              "      <td>NaN</td>\n",
              "      <td>NaN</td>\n",
              "      <td>NaN</td>\n",
              "      <td>NaN</td>\n",
              "      <td>NaN</td>\n",
              "      <td>NaN</td>\n",
              "      <td>NaN</td>\n",
              "      <td>NaN</td>\n",
              "      <td>NaN</td>\n",
              "      <td>NaN</td>\n",
              "      <td>NaN</td>\n",
              "      <td>NaN</td>\n",
              "      <td>NaN</td>\n",
              "      <td>NaN</td>\n",
              "      <td>NaN</td>\n",
              "      <td>NaN</td>\n",
              "    </tr>\n",
              "    <tr>\n",
              "      <th>cam_col</th>\n",
              "      <td>-0.046997</td>\n",
              "      <td>0.019582</td>\n",
              "      <td>0.032565</td>\n",
              "      <td>0.003548</td>\n",
              "      <td>0.003508</td>\n",
              "      <td>0.008480</td>\n",
              "      <td>0.007615</td>\n",
              "      <td>0.003365</td>\n",
              "      <td>-0.047098</td>\n",
              "      <td>NaN</td>\n",
              "      <td>1.000000</td>\n",
              "      <td>-0.015684</td>\n",
              "      <td>-0.001946</td>\n",
              "      <td>0.014476</td>\n",
              "      <td>0.000097</td>\n",
              "      <td>-0.001949</td>\n",
              "      <td>-0.006745</td>\n",
              "      <td>0.121597</td>\n",
              "    </tr>\n",
              "    <tr>\n",
              "      <th>field_ID</th>\n",
              "      <td>0.031498</td>\n",
              "      <td>-0.165577</td>\n",
              "      <td>-0.173416</td>\n",
              "      <td>-0.008374</td>\n",
              "      <td>-0.008852</td>\n",
              "      <td>-0.026423</td>\n",
              "      <td>-0.026679</td>\n",
              "      <td>-0.008903</td>\n",
              "      <td>0.031498</td>\n",
              "      <td>NaN</td>\n",
              "      <td>-0.015684</td>\n",
              "      <td>1.000000</td>\n",
              "      <td>-0.083471</td>\n",
              "      <td>-0.038044</td>\n",
              "      <td>-0.021331</td>\n",
              "      <td>-0.083471</td>\n",
              "      <td>-0.095064</td>\n",
              "      <td>-0.012337</td>\n",
              "    </tr>\n",
              "    <tr>\n",
              "      <th>spec_obj_ID</th>\n",
              "      <td>0.239461</td>\n",
              "      <td>-0.002553</td>\n",
              "      <td>0.112329</td>\n",
              "      <td>0.029997</td>\n",
              "      <td>0.039443</td>\n",
              "      <td>0.655245</td>\n",
              "      <td>0.661641</td>\n",
              "      <td>0.037813</td>\n",
              "      <td>0.239460</td>\n",
              "      <td>NaN</td>\n",
              "      <td>-0.001946</td>\n",
              "      <td>-0.083471</td>\n",
              "      <td>1.000000</td>\n",
              "      <td>0.215722</td>\n",
              "      <td>0.388642</td>\n",
              "      <td>1.000000</td>\n",
              "      <td>0.970167</td>\n",
              "      <td>0.241279</td>\n",
              "    </tr>\n",
              "    <tr>\n",
              "      <th>class</th>\n",
              "      <td>-0.000047</td>\n",
              "      <td>0.004552</td>\n",
              "      <td>0.056643</td>\n",
              "      <td>-0.017701</td>\n",
              "      <td>-0.005915</td>\n",
              "      <td>0.150691</td>\n",
              "      <td>0.284396</td>\n",
              "      <td>0.017352</td>\n",
              "      <td>-0.000049</td>\n",
              "      <td>NaN</td>\n",
              "      <td>0.014476</td>\n",
              "      <td>-0.038044</td>\n",
              "      <td>0.215722</td>\n",
              "      <td>1.000000</td>\n",
              "      <td>0.536822</td>\n",
              "      <td>0.215722</td>\n",
              "      <td>0.207262</td>\n",
              "      <td>0.032053</td>\n",
              "    </tr>\n",
              "    <tr>\n",
              "      <th>redshift</th>\n",
              "      <td>0.065400</td>\n",
              "      <td>0.001667</td>\n",
              "      <td>0.031638</td>\n",
              "      <td>0.014309</td>\n",
              "      <td>0.022954</td>\n",
              "      <td>0.433241</td>\n",
              "      <td>0.492383</td>\n",
              "      <td>0.030380</td>\n",
              "      <td>0.065400</td>\n",
              "      <td>NaN</td>\n",
              "      <td>0.000097</td>\n",
              "      <td>-0.021331</td>\n",
              "      <td>0.388642</td>\n",
              "      <td>0.536822</td>\n",
              "      <td>1.000000</td>\n",
              "      <td>0.388641</td>\n",
              "      <td>0.387109</td>\n",
              "      <td>0.127044</td>\n",
              "    </tr>\n",
              "    <tr>\n",
              "      <th>plate</th>\n",
              "      <td>0.239460</td>\n",
              "      <td>-0.002554</td>\n",
              "      <td>0.112329</td>\n",
              "      <td>0.029997</td>\n",
              "      <td>0.039443</td>\n",
              "      <td>0.655243</td>\n",
              "      <td>0.661640</td>\n",
              "      <td>0.037813</td>\n",
              "      <td>0.239459</td>\n",
              "      <td>NaN</td>\n",
              "      <td>-0.001949</td>\n",
              "      <td>-0.083471</td>\n",
              "      <td>1.000000</td>\n",
              "      <td>0.215722</td>\n",
              "      <td>0.388641</td>\n",
              "      <td>1.000000</td>\n",
              "      <td>0.970166</td>\n",
              "      <td>0.241258</td>\n",
              "    </tr>\n",
              "    <tr>\n",
              "      <th>MJD</th>\n",
              "      <td>0.262687</td>\n",
              "      <td>0.019943</td>\n",
              "      <td>0.107333</td>\n",
              "      <td>0.031997</td>\n",
              "      <td>0.040274</td>\n",
              "      <td>0.671180</td>\n",
              "      <td>0.672523</td>\n",
              "      <td>0.037469</td>\n",
              "      <td>0.262687</td>\n",
              "      <td>NaN</td>\n",
              "      <td>-0.006745</td>\n",
              "      <td>-0.095064</td>\n",
              "      <td>0.970167</td>\n",
              "      <td>0.207262</td>\n",
              "      <td>0.387109</td>\n",
              "      <td>0.970166</td>\n",
              "      <td>1.000000</td>\n",
              "      <td>0.256970</td>\n",
              "    </tr>\n",
              "    <tr>\n",
              "      <th>fiber_ID</th>\n",
              "      <td>0.067178</td>\n",
              "      <td>0.030464</td>\n",
              "      <td>0.028250</td>\n",
              "      <td>0.016305</td>\n",
              "      <td>0.017470</td>\n",
              "      <td>0.223106</td>\n",
              "      <td>0.214787</td>\n",
              "      <td>0.014668</td>\n",
              "      <td>0.067165</td>\n",
              "      <td>NaN</td>\n",
              "      <td>0.121597</td>\n",
              "      <td>-0.012337</td>\n",
              "      <td>0.241279</td>\n",
              "      <td>0.032053</td>\n",
              "      <td>0.127044</td>\n",
              "      <td>0.241258</td>\n",
              "      <td>0.256970</td>\n",
              "      <td>1.000000</td>\n",
              "    </tr>\n",
              "  </tbody>\n",
              "</table>\n",
              "</div>"
            ],
            "text/plain": [
              "               obj_ID     alpha     delta         u         g         r  \\\n",
              "obj_ID       1.000000 -0.013735 -0.301237  0.015310  0.015710  0.153891   \n",
              "alpha       -0.013735  1.000000  0.138691 -0.001532 -0.002423 -0.022083   \n",
              "delta       -0.301237  0.138691  1.000000  0.002074  0.003523 -0.006835   \n",
              "u            0.015310 -0.001532  0.002074  1.000000  0.999311  0.054149   \n",
              "g            0.015710 -0.002423  0.003523  0.999311  1.000000  0.062387   \n",
              "r            0.153891 -0.022083 -0.006835  0.054149  0.062387  1.000000   \n",
              "i            0.147670 -0.023580 -0.004480  0.045730  0.056271  0.962868   \n",
              "z            0.013811 -0.002918  0.003630  0.998093  0.999161  0.053677   \n",
              "run_ID       1.000000 -0.013737 -0.301238  0.015309  0.015710  0.153889   \n",
              "rerun_ID          NaN       NaN       NaN       NaN       NaN       NaN   \n",
              "cam_col     -0.046997  0.019582  0.032565  0.003548  0.003508  0.008480   \n",
              "field_ID     0.031498 -0.165577 -0.173416 -0.008374 -0.008852 -0.026423   \n",
              "spec_obj_ID  0.239461 -0.002553  0.112329  0.029997  0.039443  0.655245   \n",
              "class       -0.000047  0.004552  0.056643 -0.017701 -0.005915  0.150691   \n",
              "redshift     0.065400  0.001667  0.031638  0.014309  0.022954  0.433241   \n",
              "plate        0.239460 -0.002554  0.112329  0.029997  0.039443  0.655243   \n",
              "MJD          0.262687  0.019943  0.107333  0.031997  0.040274  0.671180   \n",
              "fiber_ID     0.067178  0.030464  0.028250  0.016305  0.017470  0.223106   \n",
              "\n",
              "                    i         z    run_ID  rerun_ID   cam_col  field_ID  \\\n",
              "obj_ID       0.147670  0.013811  1.000000       NaN -0.046997  0.031498   \n",
              "alpha       -0.023580 -0.002918 -0.013737       NaN  0.019582 -0.165577   \n",
              "delta       -0.004480  0.003630 -0.301238       NaN  0.032565 -0.173416   \n",
              "u            0.045730  0.998093  0.015309       NaN  0.003548 -0.008374   \n",
              "g            0.056271  0.999161  0.015710       NaN  0.003508 -0.008852   \n",
              "r            0.962868  0.053677  0.153889       NaN  0.008480 -0.026423   \n",
              "i            1.000000  0.055994  0.147668       NaN  0.007615 -0.026679   \n",
              "z            0.055994  1.000000  0.013811       NaN  0.003365 -0.008903   \n",
              "run_ID       0.147668  0.013811  1.000000       NaN -0.047098  0.031498   \n",
              "rerun_ID          NaN       NaN       NaN       NaN       NaN       NaN   \n",
              "cam_col      0.007615  0.003365 -0.047098       NaN  1.000000 -0.015684   \n",
              "field_ID    -0.026679 -0.008903  0.031498       NaN -0.015684  1.000000   \n",
              "spec_obj_ID  0.661641  0.037813  0.239460       NaN -0.001946 -0.083471   \n",
              "class        0.284396  0.017352 -0.000049       NaN  0.014476 -0.038044   \n",
              "redshift     0.492383  0.030380  0.065400       NaN  0.000097 -0.021331   \n",
              "plate        0.661640  0.037813  0.239459       NaN -0.001949 -0.083471   \n",
              "MJD          0.672523  0.037469  0.262687       NaN -0.006745 -0.095064   \n",
              "fiber_ID     0.214787  0.014668  0.067165       NaN  0.121597 -0.012337   \n",
              "\n",
              "             spec_obj_ID     class  redshift     plate       MJD  fiber_ID  \n",
              "obj_ID          0.239461 -0.000047  0.065400  0.239460  0.262687  0.067178  \n",
              "alpha          -0.002553  0.004552  0.001667 -0.002554  0.019943  0.030464  \n",
              "delta           0.112329  0.056643  0.031638  0.112329  0.107333  0.028250  \n",
              "u               0.029997 -0.017701  0.014309  0.029997  0.031997  0.016305  \n",
              "g               0.039443 -0.005915  0.022954  0.039443  0.040274  0.017470  \n",
              "r               0.655245  0.150691  0.433241  0.655243  0.671180  0.223106  \n",
              "i               0.661641  0.284396  0.492383  0.661640  0.672523  0.214787  \n",
              "z               0.037813  0.017352  0.030380  0.037813  0.037469  0.014668  \n",
              "run_ID          0.239460 -0.000049  0.065400  0.239459  0.262687  0.067165  \n",
              "rerun_ID             NaN       NaN       NaN       NaN       NaN       NaN  \n",
              "cam_col        -0.001946  0.014476  0.000097 -0.001949 -0.006745  0.121597  \n",
              "field_ID       -0.083471 -0.038044 -0.021331 -0.083471 -0.095064 -0.012337  \n",
              "spec_obj_ID     1.000000  0.215722  0.388642  1.000000  0.970167  0.241279  \n",
              "class           0.215722  1.000000  0.536822  0.215722  0.207262  0.032053  \n",
              "redshift        0.388642  0.536822  1.000000  0.388641  0.387109  0.127044  \n",
              "plate           1.000000  0.215722  0.388641  1.000000  0.970166  0.241258  \n",
              "MJD             0.970167  0.207262  0.387109  0.970166  1.000000  0.256970  \n",
              "fiber_ID        0.241279  0.032053  0.127044  0.241258  0.256970  1.000000  "
            ]
          },
          "execution_count": 15,
          "metadata": {},
          "output_type": "execute_result"
        }
      ],
      "source": [
        "df.corr() #The correlation between the columns"
      ]
    },
    {
      "cell_type": "code",
      "execution_count": 16,
      "metadata": {},
      "outputs": [],
      "source": [
        "corr = df.corr()"
      ]
    },
    {
      "cell_type": "code",
      "execution_count": 17,
      "metadata": {
        "colab": {
          "base_uri": "https://localhost:8080/"
        },
        "id": "h0Kbo30NTJDO",
        "outputId": "00249514-0dd8-4246-b07b-4a4563afeba8"
      },
      "outputs": [
        {
          "data": {
            "text/plain": [
              "class          1.000000\n",
              "redshift       0.536822\n",
              "i              0.284396\n",
              "plate          0.215722\n",
              "spec_obj_ID    0.215722\n",
              "MJD            0.207262\n",
              "r              0.150691\n",
              "delta          0.056643\n",
              "fiber_ID       0.032053\n",
              "z              0.017352\n",
              "cam_col        0.014476\n",
              "alpha          0.004552\n",
              "obj_ID         0.000047\n",
              "run_ID         0.000049\n",
              "g              0.005915\n",
              "u              0.017701\n",
              "field_ID       0.038044\n",
              "rerun_ID            NaN\n",
              "Name: class, dtype: float64"
            ]
          },
          "execution_count": 17,
          "metadata": {},
          "output_type": "execute_result"
        }
      ],
      "source": [
        "abs(df.corr()[\"class\"].sort_values(ascending=False)) #we show the correlation between the class and other data"
      ]
    },
    {
      "cell_type": "code",
      "execution_count": 18,
      "metadata": {
        "id": "q_LkUxKC8hRT"
      },
      "outputs": [],
      "source": [
        "numerical_list = [\"obj_ID\",\"alpha\",\"delta\",\"u\",\"g\",\"r\",\"i\",\"z\",\"run_ID\",\"rerun_ID\",\"cam_col\",\"field_ID\",\"spec_obj_ID\",\"class\",\"redshift\",\"plate\",\"MJD\",\"fiber_ID\"]"
      ]
    },
    {
      "cell_type": "markdown",
      "metadata": {
        "id": "uDowlZ8zzDyF"
      },
      "source": [
        "Now, we will drop unnecesary columns"
      ]
    },
    {
      "cell_type": "code",
      "execution_count": 19,
      "metadata": {
        "id": "n2-a1mQUV5bY"
      },
      "outputs": [],
      "source": [
        "df = df.drop(['obj_ID','alpha','delta','run_ID','rerun_ID','cam_col','field_ID','fiber_ID'], axis = 1)"
      ]
    },
    {
      "cell_type": "code",
      "execution_count": 20,
      "metadata": {
        "colab": {
          "base_uri": "https://localhost:8080/",
          "height": 226
        },
        "id": "qhKnVtYYV8xE",
        "outputId": "4e3e4ad3-7072-43b5-d58d-063268d345a8"
      },
      "outputs": [
        {
          "data": {
            "text/html": [
              "<div>\n",
              "<style scoped>\n",
              "    .dataframe tbody tr th:only-of-type {\n",
              "        vertical-align: middle;\n",
              "    }\n",
              "\n",
              "    .dataframe tbody tr th {\n",
              "        vertical-align: top;\n",
              "    }\n",
              "\n",
              "    .dataframe thead th {\n",
              "        text-align: right;\n",
              "    }\n",
              "</style>\n",
              "<table border=\"1\" class=\"dataframe\">\n",
              "  <thead>\n",
              "    <tr style=\"text-align: right;\">\n",
              "      <th></th>\n",
              "      <th>u</th>\n",
              "      <th>g</th>\n",
              "      <th>r</th>\n",
              "      <th>i</th>\n",
              "      <th>z</th>\n",
              "      <th>spec_obj_ID</th>\n",
              "      <th>class</th>\n",
              "      <th>redshift</th>\n",
              "      <th>plate</th>\n",
              "      <th>MJD</th>\n",
              "    </tr>\n",
              "  </thead>\n",
              "  <tbody>\n",
              "    <tr>\n",
              "      <th>0</th>\n",
              "      <td>23.87882</td>\n",
              "      <td>22.27530</td>\n",
              "      <td>20.39501</td>\n",
              "      <td>19.16573</td>\n",
              "      <td>18.79371</td>\n",
              "      <td>6.543777e+18</td>\n",
              "      <td>0</td>\n",
              "      <td>0.634794</td>\n",
              "      <td>5812</td>\n",
              "      <td>56354</td>\n",
              "    </tr>\n",
              "    <tr>\n",
              "      <th>1</th>\n",
              "      <td>24.77759</td>\n",
              "      <td>22.83188</td>\n",
              "      <td>22.58444</td>\n",
              "      <td>21.16812</td>\n",
              "      <td>21.61427</td>\n",
              "      <td>1.176014e+19</td>\n",
              "      <td>0</td>\n",
              "      <td>0.779136</td>\n",
              "      <td>10445</td>\n",
              "      <td>58158</td>\n",
              "    </tr>\n",
              "    <tr>\n",
              "      <th>2</th>\n",
              "      <td>25.26307</td>\n",
              "      <td>22.66389</td>\n",
              "      <td>20.60976</td>\n",
              "      <td>19.34857</td>\n",
              "      <td>18.94827</td>\n",
              "      <td>5.152200e+18</td>\n",
              "      <td>0</td>\n",
              "      <td>0.644195</td>\n",
              "      <td>4576</td>\n",
              "      <td>55592</td>\n",
              "    </tr>\n",
              "    <tr>\n",
              "      <th>3</th>\n",
              "      <td>22.13682</td>\n",
              "      <td>23.77656</td>\n",
              "      <td>21.61162</td>\n",
              "      <td>20.50454</td>\n",
              "      <td>19.25010</td>\n",
              "      <td>1.030107e+19</td>\n",
              "      <td>0</td>\n",
              "      <td>0.932346</td>\n",
              "      <td>9149</td>\n",
              "      <td>58039</td>\n",
              "    </tr>\n",
              "    <tr>\n",
              "      <th>4</th>\n",
              "      <td>19.43718</td>\n",
              "      <td>17.58028</td>\n",
              "      <td>16.49747</td>\n",
              "      <td>15.97711</td>\n",
              "      <td>15.54461</td>\n",
              "      <td>6.891865e+18</td>\n",
              "      <td>0</td>\n",
              "      <td>0.116123</td>\n",
              "      <td>6121</td>\n",
              "      <td>56187</td>\n",
              "    </tr>\n",
              "  </tbody>\n",
              "</table>\n",
              "</div>"
            ],
            "text/plain": [
              "          u         g         r         i         z   spec_obj_ID  class  \\\n",
              "0  23.87882  22.27530  20.39501  19.16573  18.79371  6.543777e+18      0   \n",
              "1  24.77759  22.83188  22.58444  21.16812  21.61427  1.176014e+19      0   \n",
              "2  25.26307  22.66389  20.60976  19.34857  18.94827  5.152200e+18      0   \n",
              "3  22.13682  23.77656  21.61162  20.50454  19.25010  1.030107e+19      0   \n",
              "4  19.43718  17.58028  16.49747  15.97711  15.54461  6.891865e+18      0   \n",
              "\n",
              "   redshift  plate    MJD  \n",
              "0  0.634794   5812  56354  \n",
              "1  0.779136  10445  58158  \n",
              "2  0.644195   4576  55592  \n",
              "3  0.932346   9149  58039  \n",
              "4  0.116123   6121  56187  "
            ]
          },
          "execution_count": 20,
          "metadata": {},
          "output_type": "execute_result"
        }
      ],
      "source": [
        "df.head()"
      ]
    },
    {
      "cell_type": "code",
      "execution_count": 21,
      "metadata": {
        "colab": {
          "base_uri": "https://localhost:8080/"
        },
        "id": "PIYANxv_nGMH",
        "outputId": "b2829741-7d60-48f7-fc30-57f7766375ea"
      },
      "outputs": [
        {
          "data": {
            "text/plain": [
              "class          1.000000\n",
              "redshift       0.536822\n",
              "i              0.284396\n",
              "plate          0.215722\n",
              "spec_obj_ID    0.215722\n",
              "MJD            0.207262\n",
              "r              0.150691\n",
              "z              0.017352\n",
              "g              0.005915\n",
              "u              0.017701\n",
              "Name: class, dtype: float64"
            ]
          },
          "execution_count": 21,
          "metadata": {},
          "output_type": "execute_result"
        }
      ],
      "source": [
        "#We visualize again the correlation with the data without the columns we are not interested in.\n",
        "abs(df.corr()[\"class\"].sort_values(ascending=False))"
      ]
    },
    {
      "cell_type": "markdown",
      "metadata": {
        "id": "LOiwDHhyzcJ8"
      },
      "source": [
        "Correlation of the columns shown in a heatmap"
      ]
    },
    {
      "cell_type": "code",
      "execution_count": 22,
      "metadata": {
        "colab": {
          "base_uri": "https://localhost:8080/",
          "height": 731
        },
        "id": "TWNBidHbsN2g",
        "outputId": "84d3941e-6bfa-4372-c413-18a13caa4aca"
      },
      "outputs": [
        {
          "data": {
            "image/png": "[encoded data removed]",
            "text/plain": [
              "<Figure size 1200x1200 with 2 Axes>"
            ]
          },
          "metadata": {},
          "output_type": "display_data"
        }
      ],
      "source": [
        "plt.figure(figsize=(12,12))\n",
        "sns.heatmap(df.corr(),annot=True);"
      ]
    },
    {
      "cell_type": "markdown",
      "metadata": {
        "id": "nKY1ZKhaz3VV"
      },
      "source": [
        "Detecting Outliers"
      ]
    },
    {
      "cell_type": "code",
      "execution_count": 23,
      "metadata": {
        "colab": {
          "base_uri": "https://localhost:8080/",
          "height": 226
        },
        "id": "D-KPQrHvz16K",
        "outputId": "1d7298c1-a7ef-4e0e-e473-49422ea3dfed"
      },
      "outputs": [
        {
          "data": {
            "text/html": [
              "<div>\n",
              "<style scoped>\n",
              "    .dataframe tbody tr th:only-of-type {\n",
              "        vertical-align: middle;\n",
              "    }\n",
              "\n",
              "    .dataframe tbody tr th {\n",
              "        vertical-align: top;\n",
              "    }\n",
              "\n",
              "    .dataframe thead th {\n",
              "        text-align: right;\n",
              "    }\n",
              "</style>\n",
              "<table border=\"1\" class=\"dataframe\">\n",
              "  <thead>\n",
              "    <tr style=\"text-align: right;\">\n",
              "      <th></th>\n",
              "      <th>u</th>\n",
              "      <th>g</th>\n",
              "      <th>r</th>\n",
              "      <th>i</th>\n",
              "      <th>z</th>\n",
              "      <th>spec_obj_ID</th>\n",
              "      <th>redshift</th>\n",
              "      <th>plate</th>\n",
              "      <th>MJD</th>\n",
              "    </tr>\n",
              "  </thead>\n",
              "  <tbody>\n",
              "    <tr>\n",
              "      <th>0</th>\n",
              "      <td>23.87882</td>\n",
              "      <td>22.27530</td>\n",
              "      <td>20.39501</td>\n",
              "      <td>19.16573</td>\n",
              "      <td>18.79371</td>\n",
              "      <td>6.543777e+18</td>\n",
              "      <td>0.634794</td>\n",
              "      <td>5812</td>\n",
              "      <td>56354</td>\n",
              "    </tr>\n",
              "    <tr>\n",
              "      <th>1</th>\n",
              "      <td>24.77759</td>\n",
              "      <td>22.83188</td>\n",
              "      <td>22.58444</td>\n",
              "      <td>21.16812</td>\n",
              "      <td>21.61427</td>\n",
              "      <td>1.176014e+19</td>\n",
              "      <td>0.779136</td>\n",
              "      <td>10445</td>\n",
              "      <td>58158</td>\n",
              "    </tr>\n",
              "    <tr>\n",
              "      <th>2</th>\n",
              "      <td>25.26307</td>\n",
              "      <td>22.66389</td>\n",
              "      <td>20.60976</td>\n",
              "      <td>19.34857</td>\n",
              "      <td>18.94827</td>\n",
              "      <td>5.152200e+18</td>\n",
              "      <td>0.644195</td>\n",
              "      <td>4576</td>\n",
              "      <td>55592</td>\n",
              "    </tr>\n",
              "    <tr>\n",
              "      <th>3</th>\n",
              "      <td>22.13682</td>\n",
              "      <td>23.77656</td>\n",
              "      <td>21.61162</td>\n",
              "      <td>20.50454</td>\n",
              "      <td>19.25010</td>\n",
              "      <td>1.030107e+19</td>\n",
              "      <td>0.932346</td>\n",
              "      <td>9149</td>\n",
              "      <td>58039</td>\n",
              "    </tr>\n",
              "    <tr>\n",
              "      <th>4</th>\n",
              "      <td>19.43718</td>\n",
              "      <td>17.58028</td>\n",
              "      <td>16.49747</td>\n",
              "      <td>15.97711</td>\n",
              "      <td>15.54461</td>\n",
              "      <td>6.891865e+18</td>\n",
              "      <td>0.116123</td>\n",
              "      <td>6121</td>\n",
              "      <td>56187</td>\n",
              "    </tr>\n",
              "  </tbody>\n",
              "</table>\n",
              "</div>"
            ],
            "text/plain": [
              "          u         g         r         i         z   spec_obj_ID  redshift  \\\n",
              "0  23.87882  22.27530  20.39501  19.16573  18.79371  6.543777e+18  0.634794   \n",
              "1  24.77759  22.83188  22.58444  21.16812  21.61427  1.176014e+19  0.779136   \n",
              "2  25.26307  22.66389  20.60976  19.34857  18.94827  5.152200e+18  0.644195   \n",
              "3  22.13682  23.77656  21.61162  20.50454  19.25010  1.030107e+19  0.932346   \n",
              "4  19.43718  17.58028  16.49747  15.97711  15.54461  6.891865e+18  0.116123   \n",
              "\n",
              "   plate    MJD  \n",
              "0   5812  56354  \n",
              "1  10445  58158  \n",
              "2   4576  55592  \n",
              "3   9149  58039  \n",
              "4   6121  56187  "
            ]
          },
          "execution_count": 23,
          "metadata": {},
          "output_type": "execute_result"
        }
      ],
      "source": [
        "numeric_list = [\"u\",\"g\",\"r\",\"i\",\"z\",\"spec_obj_ID\",\"redshift\",\"plate\",\"MJD\"]\n",
        "df_numeric = df.loc[:, numeric_list]\n",
        "df_numeric.head()"
      ]
    },
    {
      "cell_type": "code",
      "execution_count": 24,
      "metadata": {
        "id": "xt_thYiK1QCz"
      },
      "outputs": [],
      "source": [
        "# outlier detection\n",
        "from sklearn.neighbors import LocalOutlierFactor\n",
        "clf = LocalOutlierFactor()\n",
        "y_pred = clf.fit_predict(df)"
      ]
    },
    {
      "cell_type": "code",
      "execution_count": 25,
      "metadata": {
        "id": "pH6RQeT62oZn"
      },
      "outputs": [],
      "source": [
        "x_score = clf.negative_outlier_factor_ #Extracting the anomaly scores from the trained model\n",
        "outlier_score = pd.DataFrame()\n",
        "outlier_score[\"score\"] = x_score\n",
        "\n",
        "#threshold\n",
        "threshold = np.quantile(x_score , .10) # Calculating the 10th percentile of the anomaly scores to set as a threshold\n",
        "filtre = outlier_score[\"score\"] < threshold\n",
        "outlier_index = outlier_score[filtre].index.tolist() # Extracting the indices of samples that are considered outliers based on the threshold"
      ]
    },
    {
      "cell_type": "code",
      "execution_count": 26,
      "metadata": {
        "colab": {
          "base_uri": "https://localhost:8080/"
        },
        "id": "ceEY6q0R2-hc",
        "outputId": "0974a58b-38e9-40cd-f6da-102bebf1e07a"
      },
      "outputs": [
        {
          "data": {
            "text/plain": [
              "-2.3191353459944413"
            ]
          },
          "execution_count": 26,
          "metadata": {},
          "output_type": "execute_result"
        }
      ],
      "source": [
        "threshold"
      ]
    },
    {
      "cell_type": "code",
      "execution_count": 27,
      "metadata": {
        "colab": {
          "base_uri": "https://localhost:8080/"
        },
        "id": "suhZUH1k3ACz",
        "outputId": "462fff94-3698-465b-fc2e-52876201d81e"
      },
      "outputs": [
        {
          "data": {
            "text/plain": [
              "10000"
            ]
          },
          "execution_count": 27,
          "metadata": {},
          "output_type": "execute_result"
        }
      ],
      "source": [
        "len(outlier_index)"
      ]
    },
    {
      "cell_type": "code",
      "execution_count": 28,
      "metadata": {
        "id": "qRWpm8Cw3HyV"
      },
      "outputs": [],
      "source": [
        "df.drop(outlier_index, inplace=True) #Dropping Outliers from the DataFrame"
      ]
    },
    {
      "cell_type": "code",
      "execution_count": 29,
      "metadata": {
        "colab": {
          "base_uri": "https://localhost:8080/"
        },
        "id": "v_FShsyu4YuX",
        "outputId": "10324369-bd86-4e5e-9772-bed4b3271e39"
      },
      "outputs": [
        {
          "name": "stdout",
          "output_type": "stream",
          "text": [
            "<class 'pandas.core.frame.DataFrame'>\n",
            "Index: 90000 entries, 0 to 99999\n",
            "Data columns (total 10 columns):\n",
            " #   Column       Non-Null Count  Dtype  \n",
            "---  ------       --------------  -----  \n",
            " 0   u            90000 non-null  float64\n",
            " 1   g            90000 non-null  float64\n",
            " 2   r            90000 non-null  float64\n",
            " 3   i            90000 non-null  float64\n",
            " 4   z            90000 non-null  float64\n",
            " 5   spec_obj_ID  90000 non-null  float64\n",
            " 6   class        90000 non-null  int64  \n",
            " 7   redshift     90000 non-null  float64\n",
            " 8   plate        90000 non-null  int64  \n",
            " 9   MJD          90000 non-null  int64  \n",
            "dtypes: float64(7), int64(3)\n",
            "memory usage: 7.6 MB\n"
          ]
        }
      ],
      "source": [
        "df.info()"
      ]
    },
    {
      "cell_type": "markdown",
      "metadata": {
        "id": "BhZytU8p-XIg"
      },
      "source": [
        "We will improve our imbalacing data"
      ]
    },
    {
      "cell_type": "markdown",
      "metadata": {
        "id": "UuU882uG-ko2"
      },
      "source": [
        "We select the SMOTE technique\n",
        "\n",
        "Synthetic Minority Oversampling Technique, or SMOTE for short.By simply duplicating examples from the minority class in the training dataset prior to fitting a model. This can balance the class distribution but does not provide any additional information to the model.\n",
        "\n",
        "SMOTE works by selecting examples that are close in the feature space, drawing a line between the examples in the feature space and drawing a new sample at a point along that line."
      ]
    },
    {
      "cell_type": "code",
      "execution_count": 30,
      "metadata": {
        "id": "kr__9mNs-eAQ"
      },
      "outputs": [],
      "source": [
        "x = df.drop(['class'], axis = 1)\n",
        "y = df.loc[:,'class'].values"
      ]
    },
    {
      "cell_type": "code",
      "execution_count": 31,
      "metadata": {
        "colab": {
          "base_uri": "https://localhost:8080/"
        },
        "id": "r6OO2Wfl-3fK",
        "outputId": "153dcfee-2c7a-45ea-87f1-e99ea83f821a"
      },
      "outputs": [
        {
          "name": "stdout",
          "output_type": "stream",
          "text": [
            "Original dataset shape Counter({0: 53812, 1: 18999, 2: 17189})\n"
          ]
        },
        {
          "name": "stdout",
          "output_type": "stream",
          "text": [
            "Resampled dataset shape Counter({0: 53812, 2: 53812, 1: 53812})\n"
          ]
        }
      ],
      "source": [
        "from imblearn.over_sampling import SMOTE\n",
        "from collections import Counter\n",
        "sm = SMOTE(random_state=42)\n",
        "print('Original dataset shape %s' % Counter(y))\n",
        "x, y = sm.fit_resample(x, y)\n",
        "print('Resampled dataset shape %s' % Counter(y))"
      ]
    },
    {
      "cell_type": "code",
      "execution_count": 32,
      "metadata": {
        "colab": {
          "base_uri": "https://localhost:8080/"
        },
        "id": "1W_XghbwCqDx",
        "outputId": "33bcb3ac-2956-4e27-c144-7a879f7f4284"
      },
      "outputs": [
        {
          "name": "stdout",
          "output_type": "stream",
          "text": [
            "Counter({0: 53812, 2: 53812, 1: 53812})\n"
          ]
        }
      ],
      "source": [
        "print(Counter(y)) # We see our data with the \"oversampling\""
      ]
    },
    {
      "cell_type": "markdown",
      "metadata": {
        "id": "1A7FM00jD0eM"
      },
      "source": [
        "Scale the Data - Standartization"
      ]
    },
    {
      "cell_type": "code",
      "execution_count": 33,
      "metadata": {
        "id": "UUtQSgkpD5k1"
      },
      "outputs": [],
      "source": [
        "from sklearn.preprocessing import StandardScaler\n",
        "scaler = StandardScaler()\n",
        "x = scaler.fit_transform(x) # use standard scaler to scale the data"
      ]
    },
    {
      "cell_type": "code",
      "execution_count": 34,
      "metadata": {
        "colab": {
          "base_uri": "https://localhost:8080/"
        },
        "id": "yYIPEH_-L88c",
        "outputId": "aa56d9a2-8f59-4f3a-965d-f5bdb6b81357"
      },
      "outputs": [
        {
          "data": {
            "text/plain": [
              "array([[ 1.02255883,  0.95403854,  0.37876378, ..., -0.0874935 ,\n",
              "         0.14460887,  0.3438176 ],\n",
              "       [ 1.45844252,  1.25186699,  1.62601667, ...,  0.07626756,\n",
              "         1.68665326,  1.34198438],\n",
              "       [ 1.69388964,  1.16197479,  0.50110044, ..., -0.07682788,\n",
              "        -0.26678048, -0.07780274],\n",
              "       ...,\n",
              "       [-1.17035654, -0.74141982, -0.61653052, ..., -0.26416877,\n",
              "        -1.5735075 , -1.98616041],\n",
              "       [-0.47947886,  0.1628031 ,  0.59856919, ...,  1.28692133,\n",
              "         0.94775006,  0.90874458],\n",
              "       [ 0.74892714,  0.65162367,  1.11858279, ...,  1.7019607 ,\n",
              "        -0.53138771, -0.27090707]])"
            ]
          },
          "execution_count": 34,
          "metadata": {},
          "output_type": "execute_result"
        }
      ],
      "source": [
        "x"
      ]
    },
    {
      "cell_type": "markdown",
      "metadata": {
        "id": "B7_M41KcEI--"
      },
      "source": [
        "We will drop the 'Class' column from our data because we don't need it; we are aiming to make predictions about the class.\n"
      ]
    },
    {
      "cell_type": "code",
      "execution_count": 35,
      "metadata": {
        "id": "0fGrORRZEVyL"
      },
      "outputs": [],
      "source": [
        "x,y=df.drop(\"class\",axis=1),df[['class']]"
      ]
    },
    {
      "cell_type": "markdown",
      "metadata": {
        "id": "YQD_kU-dMjMu"
      },
      "source": [
        "We will split the data into train and test set"
      ]
    },
    {
      "cell_type": "code",
      "execution_count": 36,
      "metadata": {
        "colab": {
          "base_uri": "https://localhost:8080/"
        },
        "id": "fNROQAplE2JW",
        "outputId": "505c07b9-267c-4a8c-8e76-91d1e044dd4d"
      },
      "outputs": [
        {
          "name": "stdout",
          "output_type": "stream",
          "text": [
            "x_train: (72000, 9)\n",
            "x_test: (18000, 9)\n",
            "y_train: (72000, 1)\n",
            "y_test: (18000, 1)\n"
          ]
        }
      ],
      "source": [
        "from sklearn.model_selection import train_test_split\n",
        "# split the data to train and test data\n",
        "x_train, x_test, y_train, y_test = train_test_split(x, y, test_size = 0.2, random_state = 42)\n",
        "print(\"x_train: {}\".format(x_train.shape))\n",
        "print(\"x_test: {}\".format(x_test.shape))\n",
        "print(\"y_train: {}\".format(y_train.shape))\n",
        "print(\"y_test: {}\".format(y_test.shape))"
      ]
    },
    {
      "cell_type": "code",
      "execution_count": 37,
      "metadata": {},
      "outputs": [
        {
          "data": {
            "text/plain": [
              "array([[ 0.80817517,  1.31454411,  0.98658249,  0.71848366,  0.49278075,\n",
              "         1.13876996,  0.02432983,  1.13873293,  0.83751778],\n",
              "       [ 0.24535482,  0.73199669,  0.48513192,  0.28326154,  0.1484514 ,\n",
              "        -0.09687953, -0.01204738, -0.09691268,  0.05102769],\n",
              "       [ 1.20884775,  1.00322108,  0.61750745, -0.11361915, -0.59185187,\n",
              "        -1.42741437, -0.795042  , -1.42742552, -1.75431202],\n",
              "       [ 0.13151029,  1.08286967,  0.69326453,  0.38005822,  0.33011938,\n",
              "         0.34251538, -0.01218104,  0.34252586,  0.34299489],\n",
              "       [ 0.77636442,  1.28981859,  1.07861392,  0.87451865,  0.60271795,\n",
              "         1.14145348, -0.02339814,  1.14144342,  1.27243301]])"
            ]
          },
          "execution_count": 37,
          "metadata": {},
          "output_type": "execute_result"
        }
      ],
      "source": [
        "from sklearn.pipeline import Pipeline\n",
        "\n",
        "# Creating a data transformation pipeline\n",
        "pipeline = Pipeline([\n",
        "    ('scaler', StandardScaler())  # Standardize features by removing the mean and scaling to unit variance\n",
        "])\n",
        "\n",
        "# Fitting the pipeline to the training data\n",
        "x_train_transformed = pipeline.fit_transform(x_train)\n",
        "x_test_transformed = pipeline.transform(x_test)\n",
        "\n",
        "# Checking the transformed data\n",
        "x_train_transformed[:5]\n",
        "\n"
      ]
    },
    {
      "cell_type": "code",
      "execution_count": 38,
      "metadata": {},
      "outputs": [
        {
          "data": {
            "text/plain": [
              "'data_transformation_pipeline.sav'"
            ]
          },
          "execution_count": 38,
          "metadata": {},
          "output_type": "execute_result"
        }
      ],
      "source": [
        "import joblib\n",
        "\n",
        "# Saving the pipeline to a .sav file\n",
        "pipeline_filename = 'data_transformation_pipeline.sav'\n",
        "joblib.dump(pipeline, pipeline_filename)\n",
        "\n",
        "pipeline_filename\n"
      ]
    },
    {
      "cell_type": "code",
      "execution_count": 39,
      "metadata": {},
      "outputs": [
        {
          "name": "stderr",
          "output_type": "stream",
          "text": [
            "/home/torrescayo/anaconda3/envs/ML/lib/python3.11/site-packages/sklearn/utils/validation.py:1184: DataConversionWarning: A column-vector y was passed when a 1d array was expected. Please change the shape of y to (n_samples, ), for example using ravel().\n",
            "  y = column_or_1d(y, warn=True)\n",
            "/home/torrescayo/anaconda3/envs/ML/lib/python3.11/site-packages/sklearn/utils/validation.py:1184: DataConversionWarning: A column-vector y was passed when a 1d array was expected. Please change the shape of y to (n_samples, ), for example using ravel().\n",
            "  y = column_or_1d(y, warn=True)\n",
            "/home/torrescayo/anaconda3/envs/ML/lib/python3.11/site-packages/sklearn/utils/validation.py:1184: DataConversionWarning: A column-vector y was passed when a 1d array was expected. Please change the shape of y to (n_samples, ), for example using ravel().\n",
            "  y = column_or_1d(y, warn=True)\n",
            "/home/torrescayo/anaconda3/envs/ML/lib/python3.11/site-packages/sklearn/utils/validation.py:1184: DataConversionWarning: A column-vector y was passed when a 1d array was expected. Please change the shape of y to (n_samples, ), for example using ravel().\n",
            "  y = column_or_1d(y, warn=True)\n",
            "/home/torrescayo/anaconda3/envs/ML/lib/python3.11/site-packages/sklearn/utils/validation.py:1184: DataConversionWarning: A column-vector y was passed when a 1d array was expected. Please change the shape of y to (n_samples, ), for example using ravel().\n",
            "  y = column_or_1d(y, warn=True)\n",
            "/home/torrescayo/anaconda3/envs/ML/lib/python3.11/site-packages/sklearn/utils/validation.py:1184: DataConversionWarning: A column-vector y was passed when a 1d array was expected. Please change the shape of y to (n_samples, ), for example using ravel().\n",
            "  y = column_or_1d(y, warn=True)\n",
            "/home/torrescayo/anaconda3/envs/ML/lib/python3.11/site-packages/sklearn/utils/validation.py:1184: DataConversionWarning: A column-vector y was passed when a 1d array was expected. Please change the shape of y to (n_samples, ), for example using ravel().\n",
            "  y = column_or_1d(y, warn=True)\n",
            "/home/torrescayo/anaconda3/envs/ML/lib/python3.11/site-packages/sklearn/utils/validation.py:1184: DataConversionWarning: A column-vector y was passed when a 1d array was expected. Please change the shape of y to (n_samples, ), for example using ravel().\n",
            "  y = column_or_1d(y, warn=True)\n",
            "/home/torrescayo/anaconda3/envs/ML/lib/python3.11/site-packages/sklearn/utils/validation.py:1184: DataConversionWarning: A column-vector y was passed when a 1d array was expected. Please change the shape of y to (n_samples, ), for example using ravel().\n",
            "  y = column_or_1d(y, warn=True)\n",
            "/home/torrescayo/anaconda3/envs/ML/lib/python3.11/site-packages/sklearn/utils/validation.py:1184: DataConversionWarning: A column-vector y was passed when a 1d array was expected. Please change the shape of y to (n_samples, ), for example using ravel().\n",
            "  y = column_or_1d(y, warn=True)\n",
            "/home/torrescayo/anaconda3/envs/ML/lib/python3.11/site-packages/sklearn/utils/validation.py:1184: DataConversionWarning: A column-vector y was passed when a 1d array was expected. Please change the shape of y to (n_samples, ), for example using ravel().\n",
            "  y = column_or_1d(y, warn=True)\n",
            "/home/torrescayo/anaconda3/envs/ML/lib/python3.11/site-packages/sklearn/utils/validation.py:1184: DataConversionWarning: A column-vector y was passed when a 1d array was expected. Please change the shape of y to (n_samples, ), for example using ravel().\n",
            "  y = column_or_1d(y, warn=True)\n",
            "/home/torrescayo/anaconda3/envs/ML/lib/python3.11/site-packages/sklearn/utils/validation.py:1184: DataConversionWarning: A column-vector y was passed when a 1d array was expected. Please change the shape of y to (n_samples, ), for example using ravel().\n",
            "  y = column_or_1d(y, warn=True)\n",
            "/home/torrescayo/anaconda3/envs/ML/lib/python3.11/site-packages/sklearn/utils/validation.py:1184: DataConversionWarning: A column-vector y was passed when a 1d array was expected. Please change the shape of y to (n_samples, ), for example using ravel().\n",
            "  y = column_or_1d(y, warn=True)\n",
            "/home/torrescayo/anaconda3/envs/ML/lib/python3.11/site-packages/sklearn/utils/validation.py:1184: DataConversionWarning: A column-vector y was passed when a 1d array was expected. Please change the shape of y to (n_samples, ), for example using ravel().\n",
            "  y = column_or_1d(y, warn=True)\n",
            "/home/torrescayo/anaconda3/envs/ML/lib/python3.11/site-packages/sklearn/utils/validation.py:1184: DataConversionWarning: A column-vector y was passed when a 1d array was expected. Please change the shape of y to (n_samples, ), for example using ravel().\n",
            "  y = column_or_1d(y, warn=True)\n",
            "/home/torrescayo/anaconda3/envs/ML/lib/python3.11/site-packages/sklearn/utils/validation.py:1184: DataConversionWarning: A column-vector y was passed when a 1d array was expected. Please change the shape of y to (n_samples, ), for example using ravel().\n",
            "  y = column_or_1d(y, warn=True)\n",
            "/home/torrescayo/anaconda3/envs/ML/lib/python3.11/site-packages/sklearn/utils/validation.py:1184: DataConversionWarning: A column-vector y was passed when a 1d array was expected. Please change the shape of y to (n_samples, ), for example using ravel().\n",
            "  y = column_or_1d(y, warn=True)\n",
            "/home/torrescayo/anaconda3/envs/ML/lib/python3.11/site-packages/sklearn/utils/validation.py:1184: DataConversionWarning: A column-vector y was passed when a 1d array was expected. Please change the shape of y to (n_samples, ), for example using ravel().\n",
            "  y = column_or_1d(y, warn=True)\n",
            "/home/torrescayo/anaconda3/envs/ML/lib/python3.11/site-packages/sklearn/utils/validation.py:1184: DataConversionWarning: A column-vector y was passed when a 1d array was expected. Please change the shape of y to (n_samples, ), for example using ravel().\n",
            "  y = column_or_1d(y, warn=True)\n",
            "/home/torrescayo/anaconda3/envs/ML/lib/python3.11/site-packages/sklearn/utils/validation.py:1184: DataConversionWarning: A column-vector y was passed when a 1d array was expected. Please change the shape of y to (n_samples, ), for example using ravel().\n",
            "  y = column_or_1d(y, warn=True)\n",
            "/home/torrescayo/anaconda3/envs/ML/lib/python3.11/site-packages/sklearn/utils/validation.py:1184: DataConversionWarning: A column-vector y was passed when a 1d array was expected. Please change the shape of y to (n_samples, ), for example using ravel().\n",
            "  y = column_or_1d(y, warn=True)\n",
            "/home/torrescayo/anaconda3/envs/ML/lib/python3.11/site-packages/sklearn/utils/validation.py:1184: DataConversionWarning: A column-vector y was passed when a 1d array was expected. Please change the shape of y to (n_samples, ), for example using ravel().\n",
            "  y = column_or_1d(y, warn=True)\n",
            "/home/torrescayo/anaconda3/envs/ML/lib/python3.11/site-packages/sklearn/utils/validation.py:1184: DataConversionWarning: A column-vector y was passed when a 1d array was expected. Please change the shape of y to (n_samples, ), for example using ravel().\n",
            "  y = column_or_1d(y, warn=True)\n",
            "/home/torrescayo/anaconda3/envs/ML/lib/python3.11/site-packages/sklearn/utils/validation.py:1184: DataConversionWarning: A column-vector y was passed when a 1d array was expected. Please change the shape of y to (n_samples, ), for example using ravel().\n",
            "  y = column_or_1d(y, warn=True)\n",
            "/home/torrescayo/anaconda3/envs/ML/lib/python3.11/site-packages/sklearn/utils/validation.py:1184: DataConversionWarning: A column-vector y was passed when a 1d array was expected. Please change the shape of y to (n_samples, ), for example using ravel().\n",
            "  y = column_or_1d(y, warn=True)\n",
            "/home/torrescayo/anaconda3/envs/ML/lib/python3.11/site-packages/sklearn/utils/validation.py:1184: DataConversionWarning: A column-vector y was passed when a 1d array was expected. Please change the shape of y to (n_samples, ), for example using ravel().\n",
            "  y = column_or_1d(y, warn=True)\n",
            "/home/torrescayo/anaconda3/envs/ML/lib/python3.11/site-packages/sklearn/utils/validation.py:1184: DataConversionWarning: A column-vector y was passed when a 1d array was expected. Please change the shape of y to (n_samples, ), for example using ravel().\n",
            "  y = column_or_1d(y, warn=True)\n",
            "/home/torrescayo/anaconda3/envs/ML/lib/python3.11/site-packages/sklearn/utils/validation.py:1184: DataConversionWarning: A column-vector y was passed when a 1d array was expected. Please change the shape of y to (n_samples, ), for example using ravel().\n",
            "  y = column_or_1d(y, warn=True)\n",
            "/home/torrescayo/anaconda3/envs/ML/lib/python3.11/site-packages/sklearn/utils/validation.py:1184: DataConversionWarning: A column-vector y was passed when a 1d array was expected. Please change the shape of y to (n_samples, ), for example using ravel().\n",
            "  y = column_or_1d(y, warn=True)\n",
            "/home/torrescayo/anaconda3/envs/ML/lib/python3.11/site-packages/sklearn/utils/validation.py:1184: DataConversionWarning: A column-vector y was passed when a 1d array was expected. Please change the shape of y to (n_samples, ), for example using ravel().\n",
            "  y = column_or_1d(y, warn=True)\n",
            "/home/torrescayo/anaconda3/envs/ML/lib/python3.11/site-packages/sklearn/utils/validation.py:1184: DataConversionWarning: A column-vector y was passed when a 1d array was expected. Please change the shape of y to (n_samples, ), for example using ravel().\n",
            "  y = column_or_1d(y, warn=True)\n",
            "/home/torrescayo/anaconda3/envs/ML/lib/python3.11/site-packages/sklearn/utils/validation.py:1184: DataConversionWarning: A column-vector y was passed when a 1d array was expected. Please change the shape of y to (n_samples, ), for example using ravel().\n",
            "  y = column_or_1d(y, warn=True)\n",
            "/home/torrescayo/anaconda3/envs/ML/lib/python3.11/site-packages/sklearn/utils/validation.py:1184: DataConversionWarning: A column-vector y was passed when a 1d array was expected. Please change the shape of y to (n_samples, ), for example using ravel().\n",
            "  y = column_or_1d(y, warn=True)\n",
            "/home/torrescayo/anaconda3/envs/ML/lib/python3.11/site-packages/sklearn/utils/validation.py:1184: DataConversionWarning: A column-vector y was passed when a 1d array was expected. Please change the shape of y to (n_samples, ), for example using ravel().\n",
            "  y = column_or_1d(y, warn=True)\n",
            "/home/torrescayo/anaconda3/envs/ML/lib/python3.11/site-packages/sklearn/utils/validation.py:1184: DataConversionWarning: A column-vector y was passed when a 1d array was expected. Please change the shape of y to (n_samples, ), for example using ravel().\n",
            "  y = column_or_1d(y, warn=True)\n",
            "/home/torrescayo/anaconda3/envs/ML/lib/python3.11/site-packages/sklearn/utils/validation.py:1184: DataConversionWarning: A column-vector y was passed when a 1d array was expected. Please change the shape of y to (n_samples, ), for example using ravel().\n",
            "  y = column_or_1d(y, warn=True)\n",
            "/home/torrescayo/anaconda3/envs/ML/lib/python3.11/site-packages/sklearn/utils/validation.py:1184: DataConversionWarning: A column-vector y was passed when a 1d array was expected. Please change the shape of y to (n_samples, ), for example using ravel().\n",
            "  y = column_or_1d(y, warn=True)\n",
            "/home/torrescayo/anaconda3/envs/ML/lib/python3.11/site-packages/sklearn/utils/validation.py:1184: DataConversionWarning: A column-vector y was passed when a 1d array was expected. Please change the shape of y to (n_samples, ), for example using ravel().\n",
            "  y = column_or_1d(y, warn=True)\n",
            "/home/torrescayo/anaconda3/envs/ML/lib/python3.11/site-packages/sklearn/utils/validation.py:1184: DataConversionWarning: A column-vector y was passed when a 1d array was expected. Please change the shape of y to (n_samples, ), for example using ravel().\n",
            "  y = column_or_1d(y, warn=True)\n",
            "/home/torrescayo/anaconda3/envs/ML/lib/python3.11/site-packages/sklearn/utils/validation.py:1184: DataConversionWarning: A column-vector y was passed when a 1d array was expected. Please change the shape of y to (n_samples, ), for example using ravel().\n",
            "  y = column_or_1d(y, warn=True)\n",
            "/home/torrescayo/anaconda3/envs/ML/lib/python3.11/site-packages/sklearn/utils/validation.py:1184: DataConversionWarning: A column-vector y was passed when a 1d array was expected. Please change the shape of y to (n_samples, ), for example using ravel().\n",
            "  y = column_or_1d(y, warn=True)\n",
            "/home/torrescayo/anaconda3/envs/ML/lib/python3.11/site-packages/sklearn/utils/validation.py:1184: DataConversionWarning: A column-vector y was passed when a 1d array was expected. Please change the shape of y to (n_samples, ), for example using ravel().\n",
            "  y = column_or_1d(y, warn=True)\n",
            "/home/torrescayo/anaconda3/envs/ML/lib/python3.11/site-packages/sklearn/utils/validation.py:1184: DataConversionWarning: A column-vector y was passed when a 1d array was expected. Please change the shape of y to (n_samples, ), for example using ravel().\n",
            "  y = column_or_1d(y, warn=True)\n",
            "/home/torrescayo/anaconda3/envs/ML/lib/python3.11/site-packages/sklearn/utils/validation.py:1184: DataConversionWarning: A column-vector y was passed when a 1d array was expected. Please change the shape of y to (n_samples, ), for example using ravel().\n",
            "  y = column_or_1d(y, warn=True)\n",
            "/home/torrescayo/anaconda3/envs/ML/lib/python3.11/site-packages/sklearn/utils/validation.py:1184: DataConversionWarning: A column-vector y was passed when a 1d array was expected. Please change the shape of y to (n_samples, ), for example using ravel().\n",
            "  y = column_or_1d(y, warn=True)\n",
            "/home/torrescayo/anaconda3/envs/ML/lib/python3.11/site-packages/sklearn/utils/validation.py:1184: DataConversionWarning: A column-vector y was passed when a 1d array was expected. Please change the shape of y to (n_samples, ), for example using ravel().\n",
            "  y = column_or_1d(y, warn=True)\n",
            "/home/torrescayo/anaconda3/envs/ML/lib/python3.11/site-packages/sklearn/utils/validation.py:1184: DataConversionWarning: A column-vector y was passed when a 1d array was expected. Please change the shape of y to (n_samples, ), for example using ravel().\n",
            "  y = column_or_1d(y, warn=True)\n",
            "/home/torrescayo/anaconda3/envs/ML/lib/python3.11/site-packages/sklearn/utils/validation.py:1184: DataConversionWarning: A column-vector y was passed when a 1d array was expected. Please change the shape of y to (n_samples, ), for example using ravel().\n",
            "  y = column_or_1d(y, warn=True)\n",
            "/home/torrescayo/anaconda3/envs/ML/lib/python3.11/site-packages/sklearn/utils/validation.py:1184: DataConversionWarning: A column-vector y was passed when a 1d array was expected. Please change the shape of y to (n_samples, ), for example using ravel().\n",
            "  y = column_or_1d(y, warn=True)\n",
            "/home/torrescayo/anaconda3/envs/ML/lib/python3.11/site-packages/sklearn/utils/validation.py:1184: DataConversionWarning: A column-vector y was passed when a 1d array was expected. Please change the shape of y to (n_samples, ), for example using ravel().\n",
            "  y = column_or_1d(y, warn=True)\n",
            "/home/torrescayo/anaconda3/envs/ML/lib/python3.11/site-packages/sklearn/utils/validation.py:1184: DataConversionWarning: A column-vector y was passed when a 1d array was expected. Please change the shape of y to (n_samples, ), for example using ravel().\n",
            "  y = column_or_1d(y, warn=True)\n",
            "/home/torrescayo/anaconda3/envs/ML/lib/python3.11/site-packages/sklearn/utils/validation.py:1184: DataConversionWarning: A column-vector y was passed when a 1d array was expected. Please change the shape of y to (n_samples, ), for example using ravel().\n",
            "  y = column_or_1d(y, warn=True)\n",
            "/home/torrescayo/anaconda3/envs/ML/lib/python3.11/site-packages/sklearn/utils/validation.py:1184: DataConversionWarning: A column-vector y was passed when a 1d array was expected. Please change the shape of y to (n_samples, ), for example using ravel().\n",
            "  y = column_or_1d(y, warn=True)\n",
            "/home/torrescayo/anaconda3/envs/ML/lib/python3.11/site-packages/sklearn/utils/validation.py:1184: DataConversionWarning: A column-vector y was passed when a 1d array was expected. Please change the shape of y to (n_samples, ), for example using ravel().\n",
            "  y = column_or_1d(y, warn=True)\n",
            "/home/torrescayo/anaconda3/envs/ML/lib/python3.11/site-packages/sklearn/utils/validation.py:1184: DataConversionWarning: A column-vector y was passed when a 1d array was expected. Please change the shape of y to (n_samples, ), for example using ravel().\n",
            "  y = column_or_1d(y, warn=True)\n",
            "/home/torrescayo/anaconda3/envs/ML/lib/python3.11/site-packages/sklearn/utils/validation.py:1184: DataConversionWarning: A column-vector y was passed when a 1d array was expected. Please change the shape of y to (n_samples, ), for example using ravel().\n",
            "  y = column_or_1d(y, warn=True)\n",
            "/home/torrescayo/anaconda3/envs/ML/lib/python3.11/site-packages/sklearn/utils/validation.py:1184: DataConversionWarning: A column-vector y was passed when a 1d array was expected. Please change the shape of y to (n_samples, ), for example using ravel().\n",
            "  y = column_or_1d(y, warn=True)\n",
            "/home/torrescayo/anaconda3/envs/ML/lib/python3.11/site-packages/sklearn/utils/validation.py:1184: DataConversionWarning: A column-vector y was passed when a 1d array was expected. Please change the shape of y to (n_samples, ), for example using ravel().\n",
            "  y = column_or_1d(y, warn=True)\n",
            "/home/torrescayo/anaconda3/envs/ML/lib/python3.11/site-packages/sklearn/utils/validation.py:1184: DataConversionWarning: A column-vector y was passed when a 1d array was expected. Please change the shape of y to (n_samples, ), for example using ravel().\n",
            "  y = column_or_1d(y, warn=True)\n",
            "/home/torrescayo/anaconda3/envs/ML/lib/python3.11/site-packages/sklearn/utils/validation.py:1184: DataConversionWarning: A column-vector y was passed when a 1d array was expected. Please change the shape of y to (n_samples, ), for example using ravel().\n",
            "  y = column_or_1d(y, warn=True)\n"
          ]
        },
        {
          "data": {
            "text/plain": [
              "{'C': 100, 'penalty': 'l1', 'solver': 'liblinear'}"
            ]
          },
          "execution_count": 39,
          "metadata": {},
          "output_type": "execute_result"
        }
      ],
      "source": [
        "from sklearn.linear_model import LogisticRegression\n",
        "from sklearn.model_selection import GridSearchCV\n",
        "\n",
        "# Defining the logistic regression model\n",
        "lr = LogisticRegression(max_iter=5000, random_state=42)\n",
        "\n",
        "# Defining the hyperparameters for grid search\n",
        "param_grid = {\n",
        "    'C': [0.001, 0.01, 0.1, 1, 10, 100],  # Inverse of regularization strength\n",
        "    'penalty': ['l1', 'l2'],  # Specifies the norm used in the penalization\n",
        "    'solver': ['liblinear']  # Algorithm to use in the optimization problem\n",
        "}\n",
        "\n",
        "# Setting up the GridSearchCV\n",
        "grid_search = GridSearchCV(lr, param_grid, cv=5, n_jobs=-1)\n",
        "\n",
        "# Fitting the model to the transformed training data\n",
        "grid_search.fit(x_train_transformed, y_train)\n",
        "\n",
        "# Retrieving the best parameters\n",
        "best_params = grid_search.best_params_\n",
        "best_params\n"
      ]
    },
    {
      "cell_type": "code",
      "execution_count": 40,
      "metadata": {},
      "outputs": [
        {
          "name": "stderr",
          "output_type": "stream",
          "text": [
            "/home/torrescayo/anaconda3/envs/ML/lib/python3.11/site-packages/sklearn/utils/validation.py:1184: DataConversionWarning: A column-vector y was passed when a 1d array was expected. Please change the shape of y to (n_samples, ), for example using ravel().\n",
            "  y = column_or_1d(y, warn=True)\n"
          ]
        },
        {
          "data": {
            "image/png": "[encoded data removed]",
            "text/plain": [
              "<Figure size 1000x700 with 2 Axes>"
            ]
          },
          "metadata": {},
          "output_type": "display_data"
        },
        {
          "data": {
            "text/plain": [
              "(0.9532777777777778,\n",
              " 0.9532777777777778,\n",
              " 0.9532650706273758,\n",
              " 0.9532361960904966)"
            ]
          },
          "execution_count": 40,
          "metadata": {},
          "output_type": "execute_result"
        }
      ],
      "source": [
        "from sklearn.decomposition import PCA\n",
        "from sklearn.metrics import classification_report, confusion_matrix, accuracy_score, recall_score, precision_score, f1_score\n",
        "\n",
        "\n",
        "# Creating the logistic regression model with the best parameters\n",
        "lr_best = LogisticRegression(**best_params, max_iter=5000, random_state=42)\n",
        "\n",
        "# Fitting the model and making predictions\n",
        "lr_best.fit(x_train_transformed, y_train)\n",
        "y_pred = lr_best.predict(x_test_transformed)\n",
        "\n",
        "# Computing evaluation metrics\n",
        "accuracy = accuracy_score(y_test, y_pred)\n",
        "recall = recall_score(y_test, y_pred, average='weighted')\n",
        "precision = precision_score(y_test, y_pred, average='weighted')\n",
        "f1 = f1_score(y_test, y_pred, average='weighted')\n",
        "# Compute the confusion matrix\n",
        "cm = confusion_matrix(y_test, y_pred)\n",
        "\n",
        "# Create a heatmap from the confusion matrix\n",
        "plt.figure(figsize=(10,7))  # can adjust the size as needed\n",
        "sns.heatmap(cm, annot=True, fmt='g', cmap='coolwarm')  # 'g' for integer format\n",
        "plt.title('Confusion Matrix')\n",
        "plt.xlabel('Predicted labels')\n",
        "plt.ylabel('True labels')\n",
        "\n",
        "# Better to display class names if available\n",
        "class_names = ['Galaxy', 'QSO', 'Star'] \n",
        "tick_marks = np.arange(len(class_names)) + 0.5\n",
        "\n",
        "plt.xticks(tick_marks, class_names, rotation=45)\n",
        "plt.yticks(tick_marks, class_names, rotation=0)\n",
        "\n",
        "# Display the heatmap\n",
        "plt.show()\n",
        "\n",
        "accuracy, recall, precision, f1"
      ]
    },
    {
      "cell_type": "code",
      "execution_count": 43,
      "metadata": {},
      "outputs": [
        {
          "data": {
            "text/plain": [
              "(       class\n",
              " 99566      2\n",
              " 13847      0\n",
              " 59077      0\n",
              " 69596      2\n",
              " 73421      2\n",
              " ...      ...\n",
              " 54170      1\n",
              " 42985      0\n",
              " 63143      0\n",
              " 60592      1\n",
              " 60275      0\n",
              " \n",
              " [18000 rows x 1 columns],\n",
              " array([2, 0, 0, ..., 0, 1, 0]))"
            ]
          },
          "execution_count": 43,
          "metadata": {},
          "output_type": "execute_result"
        }
      ],
      "source": [
        "y_test, y_pred"
      ]
    },
    {
      "cell_type": "code",
      "execution_count": 44,
      "metadata": {},
      "outputs": [
        {
          "name": "stdout",
          "output_type": "stream",
          "text": [
            "              precision    recall  f1-score   support\n",
            "\n",
            "      Galaxy       0.96      0.97      0.96     10683\n",
            "         QSO       0.97      0.96      0.97      3870\n",
            "        Star       0.92      0.91      0.92      3447\n",
            "\n",
            "    accuracy                           0.95     18000\n",
            "   macro avg       0.95      0.94      0.95     18000\n",
            "weighted avg       0.95      0.95      0.95     18000\n",
            "\n"
          ]
        }
      ],
      "source": [
        "from sklearn.metrics import classification_report\n",
        "\n",
        "# Make sure y_test and y_pred are the true labels and predicted labels respectively\n",
        "print(classification_report(y_test, y_pred, target_names=class_names))\n"
      ]
    },
    {
      "cell_type": "code",
      "execution_count": 46,
      "metadata": {},
      "outputs": [
        {
          "data": {
            "text/plain": [
              "['finalized_model.sav']"
            ]
          },
          "execution_count": 46,
          "metadata": {},
          "output_type": "execute_result"
        }
      ],
      "source": [
        "from joblib import dump\n",
        "\n",
        "# Assuming 'grid_search' holds your trained model after performing grid search\n",
        "# The best estimator from the grid search can be accessed with `grid_search.best_estimator_`\n",
        "trained_model = grid_search.best_estimator_\n",
        "\n",
        "# Save your model to a .sav file\n",
        "filename = 'finalized_model.sav'\n",
        "dump(trained_model, filename)\n",
        "\n",
        "# Explanation:\n",
        "# `joblib.dump()` is used to save the trained model to disk. This allows us to load the model later to make predictions without retraining.\n"
      ]
    }
  ],
  "metadata": {
    "accelerator": "GPU",
    "colab": {
      "gpuType": "T4",
      "provenance": []
    },
    "kernelspec": {
      "display_name": "Python 3",
      "name": "python3"
    },
    "language_info": {
      "codemirror_mode": {
        "name": "ipython",
        "version": 3
      },
      "file_extension": ".py",
      "mimetype": "text/x-python",
      "name": "python",
      "nbconvert_exporter": "python",
      "pygments_lexer": "ipython3",
      "version": "3.11.4"
    }
  },
  "nbformat": 4,
  "nbformat_minor": 0
}
